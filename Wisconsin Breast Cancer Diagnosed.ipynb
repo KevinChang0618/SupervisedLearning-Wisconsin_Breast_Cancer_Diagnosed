{
 "cells": [
  {
   "cell_type": "markdown",
   "metadata": {},
   "source": [
    "# Wisconsin Breast Cancer Diagnosed\n",
    "## Programming Language: R\n",
    "## Data Preprocessing"
   ]
  },
  {
   "cell_type": "markdown",
   "metadata": {},
   "source": [
    "- Load data and drop last empty column"
   ]
  },
  {
   "cell_type": "code",
   "execution_count": 2,
   "metadata": {},
   "outputs": [
    {
     "data": {
      "text/html": [
       "<table class=\"dataframe\">\n",
       "<caption>A data.frame: 6 × 31</caption>\n",
       "<thead>\n",
       "\t<tr><th></th><th scope=col>diagnosis</th><th scope=col>radius_mean</th><th scope=col>texture_mean</th><th scope=col>perimeter_mean</th><th scope=col>area_mean</th><th scope=col>smoothness_mean</th><th scope=col>compactness_mean</th><th scope=col>concavity_mean</th><th scope=col>concave.points_mean</th><th scope=col>symmetry_mean</th><th scope=col>⋯</th><th scope=col>radius_worst</th><th scope=col>texture_worst</th><th scope=col>perimeter_worst</th><th scope=col>area_worst</th><th scope=col>smoothness_worst</th><th scope=col>compactness_worst</th><th scope=col>concavity_worst</th><th scope=col>concave.points_worst</th><th scope=col>symmetry_worst</th><th scope=col>fractal_dimension_worst</th></tr>\n",
       "\t<tr><th></th><th scope=col>&lt;chr&gt;</th><th scope=col>&lt;dbl&gt;</th><th scope=col>&lt;dbl&gt;</th><th scope=col>&lt;dbl&gt;</th><th scope=col>&lt;dbl&gt;</th><th scope=col>&lt;dbl&gt;</th><th scope=col>&lt;dbl&gt;</th><th scope=col>&lt;dbl&gt;</th><th scope=col>&lt;dbl&gt;</th><th scope=col>&lt;dbl&gt;</th><th scope=col>⋯</th><th scope=col>&lt;dbl&gt;</th><th scope=col>&lt;dbl&gt;</th><th scope=col>&lt;dbl&gt;</th><th scope=col>&lt;dbl&gt;</th><th scope=col>&lt;dbl&gt;</th><th scope=col>&lt;dbl&gt;</th><th scope=col>&lt;dbl&gt;</th><th scope=col>&lt;dbl&gt;</th><th scope=col>&lt;dbl&gt;</th><th scope=col>&lt;dbl&gt;</th></tr>\n",
       "</thead>\n",
       "<tbody>\n",
       "\t<tr><th scope=row>1</th><td>M</td><td>17.99</td><td>10.38</td><td>122.80</td><td>1001.0</td><td>0.11840</td><td>0.27760</td><td>0.3001</td><td>0.14710</td><td>0.2419</td><td>⋯</td><td>25.38</td><td>17.33</td><td>184.60</td><td>2019.0</td><td>0.1622</td><td>0.6656</td><td>0.7119</td><td>0.2654</td><td>0.4601</td><td>0.11890</td></tr>\n",
       "\t<tr><th scope=row>2</th><td>M</td><td>20.57</td><td>17.77</td><td>132.90</td><td>1326.0</td><td>0.08474</td><td>0.07864</td><td>0.0869</td><td>0.07017</td><td>0.1812</td><td>⋯</td><td>24.99</td><td>23.41</td><td>158.80</td><td>1956.0</td><td>0.1238</td><td>0.1866</td><td>0.2416</td><td>0.1860</td><td>0.2750</td><td>0.08902</td></tr>\n",
       "\t<tr><th scope=row>3</th><td>M</td><td>19.69</td><td>21.25</td><td>130.00</td><td>1203.0</td><td>0.10960</td><td>0.15990</td><td>0.1974</td><td>0.12790</td><td>0.2069</td><td>⋯</td><td>23.57</td><td>25.53</td><td>152.50</td><td>1709.0</td><td>0.1444</td><td>0.4245</td><td>0.4504</td><td>0.2430</td><td>0.3613</td><td>0.08758</td></tr>\n",
       "\t<tr><th scope=row>4</th><td>M</td><td>11.42</td><td>20.38</td><td> 77.58</td><td> 386.1</td><td>0.14250</td><td>0.28390</td><td>0.2414</td><td>0.10520</td><td>0.2597</td><td>⋯</td><td>14.91</td><td>26.50</td><td> 98.87</td><td> 567.7</td><td>0.2098</td><td>0.8663</td><td>0.6869</td><td>0.2575</td><td>0.6638</td><td>0.17300</td></tr>\n",
       "\t<tr><th scope=row>5</th><td>M</td><td>20.29</td><td>14.34</td><td>135.10</td><td>1297.0</td><td>0.10030</td><td>0.13280</td><td>0.1980</td><td>0.10430</td><td>0.1809</td><td>⋯</td><td>22.54</td><td>16.67</td><td>152.20</td><td>1575.0</td><td>0.1374</td><td>0.2050</td><td>0.4000</td><td>0.1625</td><td>0.2364</td><td>0.07678</td></tr>\n",
       "\t<tr><th scope=row>6</th><td>M</td><td>12.45</td><td>15.70</td><td> 82.57</td><td> 477.1</td><td>0.12780</td><td>0.17000</td><td>0.1578</td><td>0.08089</td><td>0.2087</td><td>⋯</td><td>15.47</td><td>23.75</td><td>103.40</td><td> 741.6</td><td>0.1791</td><td>0.5249</td><td>0.5355</td><td>0.1741</td><td>0.3985</td><td>0.12440</td></tr>\n",
       "</tbody>\n",
       "</table>\n"
      ],
      "text/latex": [
       "A data.frame: 6 × 31\n",
       "\\begin{tabular}{r|lllllllllllllllllllll}\n",
       "  & diagnosis & radius\\_mean & texture\\_mean & perimeter\\_mean & area\\_mean & smoothness\\_mean & compactness\\_mean & concavity\\_mean & concave.points\\_mean & symmetry\\_mean & ⋯ & radius\\_worst & texture\\_worst & perimeter\\_worst & area\\_worst & smoothness\\_worst & compactness\\_worst & concavity\\_worst & concave.points\\_worst & symmetry\\_worst & fractal\\_dimension\\_worst\\\\\n",
       "  & <chr> & <dbl> & <dbl> & <dbl> & <dbl> & <dbl> & <dbl> & <dbl> & <dbl> & <dbl> & ⋯ & <dbl> & <dbl> & <dbl> & <dbl> & <dbl> & <dbl> & <dbl> & <dbl> & <dbl> & <dbl>\\\\\n",
       "\\hline\n",
       "\t1 & M & 17.99 & 10.38 & 122.80 & 1001.0 & 0.11840 & 0.27760 & 0.3001 & 0.14710 & 0.2419 & ⋯ & 25.38 & 17.33 & 184.60 & 2019.0 & 0.1622 & 0.6656 & 0.7119 & 0.2654 & 0.4601 & 0.11890\\\\\n",
       "\t2 & M & 20.57 & 17.77 & 132.90 & 1326.0 & 0.08474 & 0.07864 & 0.0869 & 0.07017 & 0.1812 & ⋯ & 24.99 & 23.41 & 158.80 & 1956.0 & 0.1238 & 0.1866 & 0.2416 & 0.1860 & 0.2750 & 0.08902\\\\\n",
       "\t3 & M & 19.69 & 21.25 & 130.00 & 1203.0 & 0.10960 & 0.15990 & 0.1974 & 0.12790 & 0.2069 & ⋯ & 23.57 & 25.53 & 152.50 & 1709.0 & 0.1444 & 0.4245 & 0.4504 & 0.2430 & 0.3613 & 0.08758\\\\\n",
       "\t4 & M & 11.42 & 20.38 &  77.58 &  386.1 & 0.14250 & 0.28390 & 0.2414 & 0.10520 & 0.2597 & ⋯ & 14.91 & 26.50 &  98.87 &  567.7 & 0.2098 & 0.8663 & 0.6869 & 0.2575 & 0.6638 & 0.17300\\\\\n",
       "\t5 & M & 20.29 & 14.34 & 135.10 & 1297.0 & 0.10030 & 0.13280 & 0.1980 & 0.10430 & 0.1809 & ⋯ & 22.54 & 16.67 & 152.20 & 1575.0 & 0.1374 & 0.2050 & 0.4000 & 0.1625 & 0.2364 & 0.07678\\\\\n",
       "\t6 & M & 12.45 & 15.70 &  82.57 &  477.1 & 0.12780 & 0.17000 & 0.1578 & 0.08089 & 0.2087 & ⋯ & 15.47 & 23.75 & 103.40 &  741.6 & 0.1791 & 0.5249 & 0.5355 & 0.1741 & 0.3985 & 0.12440\\\\\n",
       "\\end{tabular}\n"
      ],
      "text/markdown": [
       "\n",
       "A data.frame: 6 × 31\n",
       "\n",
       "| <!--/--> | diagnosis &lt;chr&gt; | radius_mean &lt;dbl&gt; | texture_mean &lt;dbl&gt; | perimeter_mean &lt;dbl&gt; | area_mean &lt;dbl&gt; | smoothness_mean &lt;dbl&gt; | compactness_mean &lt;dbl&gt; | concavity_mean &lt;dbl&gt; | concave.points_mean &lt;dbl&gt; | symmetry_mean &lt;dbl&gt; | ⋯ ⋯ | radius_worst &lt;dbl&gt; | texture_worst &lt;dbl&gt; | perimeter_worst &lt;dbl&gt; | area_worst &lt;dbl&gt; | smoothness_worst &lt;dbl&gt; | compactness_worst &lt;dbl&gt; | concavity_worst &lt;dbl&gt; | concave.points_worst &lt;dbl&gt; | symmetry_worst &lt;dbl&gt; | fractal_dimension_worst &lt;dbl&gt; |\n",
       "|---|---|---|---|---|---|---|---|---|---|---|---|---|---|---|---|---|---|---|---|---|---|\n",
       "| 1 | M | 17.99 | 10.38 | 122.80 | 1001.0 | 0.11840 | 0.27760 | 0.3001 | 0.14710 | 0.2419 | ⋯ | 25.38 | 17.33 | 184.60 | 2019.0 | 0.1622 | 0.6656 | 0.7119 | 0.2654 | 0.4601 | 0.11890 |\n",
       "| 2 | M | 20.57 | 17.77 | 132.90 | 1326.0 | 0.08474 | 0.07864 | 0.0869 | 0.07017 | 0.1812 | ⋯ | 24.99 | 23.41 | 158.80 | 1956.0 | 0.1238 | 0.1866 | 0.2416 | 0.1860 | 0.2750 | 0.08902 |\n",
       "| 3 | M | 19.69 | 21.25 | 130.00 | 1203.0 | 0.10960 | 0.15990 | 0.1974 | 0.12790 | 0.2069 | ⋯ | 23.57 | 25.53 | 152.50 | 1709.0 | 0.1444 | 0.4245 | 0.4504 | 0.2430 | 0.3613 | 0.08758 |\n",
       "| 4 | M | 11.42 | 20.38 |  77.58 |  386.1 | 0.14250 | 0.28390 | 0.2414 | 0.10520 | 0.2597 | ⋯ | 14.91 | 26.50 |  98.87 |  567.7 | 0.2098 | 0.8663 | 0.6869 | 0.2575 | 0.6638 | 0.17300 |\n",
       "| 5 | M | 20.29 | 14.34 | 135.10 | 1297.0 | 0.10030 | 0.13280 | 0.1980 | 0.10430 | 0.1809 | ⋯ | 22.54 | 16.67 | 152.20 | 1575.0 | 0.1374 | 0.2050 | 0.4000 | 0.1625 | 0.2364 | 0.07678 |\n",
       "| 6 | M | 12.45 | 15.70 |  82.57 |  477.1 | 0.12780 | 0.17000 | 0.1578 | 0.08089 | 0.2087 | ⋯ | 15.47 | 23.75 | 103.40 |  741.6 | 0.1791 | 0.5249 | 0.5355 | 0.1741 | 0.3985 | 0.12440 |\n",
       "\n"
      ],
      "text/plain": [
       "  diagnosis radius_mean texture_mean perimeter_mean area_mean smoothness_mean\n",
       "1 M         17.99       10.38        122.80         1001.0    0.11840        \n",
       "2 M         20.57       17.77        132.90         1326.0    0.08474        \n",
       "3 M         19.69       21.25        130.00         1203.0    0.10960        \n",
       "4 M         11.42       20.38         77.58          386.1    0.14250        \n",
       "5 M         20.29       14.34        135.10         1297.0    0.10030        \n",
       "6 M         12.45       15.70         82.57          477.1    0.12780        \n",
       "  compactness_mean concavity_mean concave.points_mean symmetry_mean <U+22EF>       \n",
       "1 0.27760          0.3001         0.14710             0.2419        <U+22EF>\n",
       "2 0.07864          0.0869         0.07017             0.1812        <U+22EF>\n",
       "3 0.15990          0.1974         0.12790             0.2069        <U+22EF>\n",
       "4 0.28390          0.2414         0.10520             0.2597        <U+22EF>\n",
       "5 0.13280          0.1980         0.10430             0.1809        <U+22EF>\n",
       "6 0.17000          0.1578         0.08089             0.2087        <U+22EF>\n",
       "  radius_worst texture_worst perimeter_worst area_worst smoothness_worst\n",
       "1 25.38        17.33         184.60          2019.0     0.1622          \n",
       "2 24.99        23.41         158.80          1956.0     0.1238          \n",
       "3 23.57        25.53         152.50          1709.0     0.1444          \n",
       "4 14.91        26.50          98.87           567.7     0.2098          \n",
       "5 22.54        16.67         152.20          1575.0     0.1374          \n",
       "6 15.47        23.75         103.40           741.6     0.1791          \n",
       "  compactness_worst concavity_worst concave.points_worst symmetry_worst\n",
       "1 0.6656            0.7119          0.2654               0.4601        \n",
       "2 0.1866            0.2416          0.1860               0.2750        \n",
       "3 0.4245            0.4504          0.2430               0.3613        \n",
       "4 0.8663            0.6869          0.2575               0.6638        \n",
       "5 0.2050            0.4000          0.1625               0.2364        \n",
       "6 0.5249            0.5355          0.1741               0.3985        \n",
       "  fractal_dimension_worst\n",
       "1 0.11890                \n",
       "2 0.08902                \n",
       "3 0.08758                \n",
       "4 0.17300                \n",
       "5 0.07678                \n",
       "6 0.12440                "
      ]
     },
     "metadata": {},
     "output_type": "display_data"
    }
   ],
   "source": [
    "library(tidyverse)\n",
    "breast_cancer = read.csv(\"data.csv\")\n",
    "breast_cancer$X <- NULL\n",
    "breast_cancer$id <- NULL\n",
    "head(breast_cancer)"
   ]
  },
  {
   "cell_type": "markdown",
   "metadata": {},
   "source": [
    "- Fix data columns name.\n",
    "- Turn column \"diagnosis\" value from M/B to 1/0. It can help us to run the models."
   ]
  },
  {
   "cell_type": "code",
   "execution_count": 3,
   "metadata": {},
   "outputs": [
    {
     "data": {
      "text/html": [
       "<table class=\"dataframe\">\n",
       "<caption>A data.frame: 6 × 31</caption>\n",
       "<thead>\n",
       "\t<tr><th></th><th scope=col>diagnosis</th><th scope=col>radius_mean</th><th scope=col>texture_mean</th><th scope=col>perimeter_mean</th><th scope=col>area_mean</th><th scope=col>smoothness_mean</th><th scope=col>compactness_mean</th><th scope=col>concavity_mean</th><th scope=col>concave_points_mean</th><th scope=col>symmetry_mean</th><th scope=col>⋯</th><th scope=col>radius_worst</th><th scope=col>texture_worst</th><th scope=col>perimeter_worst</th><th scope=col>area_worst</th><th scope=col>smoothness_worst</th><th scope=col>compactness_worst</th><th scope=col>concavity_worst</th><th scope=col>concave_points_worst</th><th scope=col>symmetry_worst</th><th scope=col>fractal_dimension_worst</th></tr>\n",
       "\t<tr><th></th><th scope=col>&lt;dbl&gt;</th><th scope=col>&lt;dbl&gt;</th><th scope=col>&lt;dbl&gt;</th><th scope=col>&lt;dbl&gt;</th><th scope=col>&lt;dbl&gt;</th><th scope=col>&lt;dbl&gt;</th><th scope=col>&lt;dbl&gt;</th><th scope=col>&lt;dbl&gt;</th><th scope=col>&lt;dbl&gt;</th><th scope=col>&lt;dbl&gt;</th><th scope=col>⋯</th><th scope=col>&lt;dbl&gt;</th><th scope=col>&lt;dbl&gt;</th><th scope=col>&lt;dbl&gt;</th><th scope=col>&lt;dbl&gt;</th><th scope=col>&lt;dbl&gt;</th><th scope=col>&lt;dbl&gt;</th><th scope=col>&lt;dbl&gt;</th><th scope=col>&lt;dbl&gt;</th><th scope=col>&lt;dbl&gt;</th><th scope=col>&lt;dbl&gt;</th></tr>\n",
       "</thead>\n",
       "<tbody>\n",
       "\t<tr><th scope=row>1</th><td>1</td><td>17.99</td><td>10.38</td><td>122.80</td><td>1001.0</td><td>0.11840</td><td>0.27760</td><td>0.3001</td><td>0.14710</td><td>0.2419</td><td>⋯</td><td>25.38</td><td>17.33</td><td>184.60</td><td>2019.0</td><td>0.1622</td><td>0.6656</td><td>0.7119</td><td>0.2654</td><td>0.4601</td><td>0.11890</td></tr>\n",
       "\t<tr><th scope=row>2</th><td>1</td><td>20.57</td><td>17.77</td><td>132.90</td><td>1326.0</td><td>0.08474</td><td>0.07864</td><td>0.0869</td><td>0.07017</td><td>0.1812</td><td>⋯</td><td>24.99</td><td>23.41</td><td>158.80</td><td>1956.0</td><td>0.1238</td><td>0.1866</td><td>0.2416</td><td>0.1860</td><td>0.2750</td><td>0.08902</td></tr>\n",
       "\t<tr><th scope=row>3</th><td>1</td><td>19.69</td><td>21.25</td><td>130.00</td><td>1203.0</td><td>0.10960</td><td>0.15990</td><td>0.1974</td><td>0.12790</td><td>0.2069</td><td>⋯</td><td>23.57</td><td>25.53</td><td>152.50</td><td>1709.0</td><td>0.1444</td><td>0.4245</td><td>0.4504</td><td>0.2430</td><td>0.3613</td><td>0.08758</td></tr>\n",
       "\t<tr><th scope=row>4</th><td>1</td><td>11.42</td><td>20.38</td><td> 77.58</td><td> 386.1</td><td>0.14250</td><td>0.28390</td><td>0.2414</td><td>0.10520</td><td>0.2597</td><td>⋯</td><td>14.91</td><td>26.50</td><td> 98.87</td><td> 567.7</td><td>0.2098</td><td>0.8663</td><td>0.6869</td><td>0.2575</td><td>0.6638</td><td>0.17300</td></tr>\n",
       "\t<tr><th scope=row>5</th><td>1</td><td>20.29</td><td>14.34</td><td>135.10</td><td>1297.0</td><td>0.10030</td><td>0.13280</td><td>0.1980</td><td>0.10430</td><td>0.1809</td><td>⋯</td><td>22.54</td><td>16.67</td><td>152.20</td><td>1575.0</td><td>0.1374</td><td>0.2050</td><td>0.4000</td><td>0.1625</td><td>0.2364</td><td>0.07678</td></tr>\n",
       "\t<tr><th scope=row>6</th><td>1</td><td>12.45</td><td>15.70</td><td> 82.57</td><td> 477.1</td><td>0.12780</td><td>0.17000</td><td>0.1578</td><td>0.08089</td><td>0.2087</td><td>⋯</td><td>15.47</td><td>23.75</td><td>103.40</td><td> 741.6</td><td>0.1791</td><td>0.5249</td><td>0.5355</td><td>0.1741</td><td>0.3985</td><td>0.12440</td></tr>\n",
       "</tbody>\n",
       "</table>\n"
      ],
      "text/latex": [
       "A data.frame: 6 × 31\n",
       "\\begin{tabular}{r|lllllllllllllllllllll}\n",
       "  & diagnosis & radius\\_mean & texture\\_mean & perimeter\\_mean & area\\_mean & smoothness\\_mean & compactness\\_mean & concavity\\_mean & concave\\_points\\_mean & symmetry\\_mean & ⋯ & radius\\_worst & texture\\_worst & perimeter\\_worst & area\\_worst & smoothness\\_worst & compactness\\_worst & concavity\\_worst & concave\\_points\\_worst & symmetry\\_worst & fractal\\_dimension\\_worst\\\\\n",
       "  & <dbl> & <dbl> & <dbl> & <dbl> & <dbl> & <dbl> & <dbl> & <dbl> & <dbl> & <dbl> & ⋯ & <dbl> & <dbl> & <dbl> & <dbl> & <dbl> & <dbl> & <dbl> & <dbl> & <dbl> & <dbl>\\\\\n",
       "\\hline\n",
       "\t1 & 1 & 17.99 & 10.38 & 122.80 & 1001.0 & 0.11840 & 0.27760 & 0.3001 & 0.14710 & 0.2419 & ⋯ & 25.38 & 17.33 & 184.60 & 2019.0 & 0.1622 & 0.6656 & 0.7119 & 0.2654 & 0.4601 & 0.11890\\\\\n",
       "\t2 & 1 & 20.57 & 17.77 & 132.90 & 1326.0 & 0.08474 & 0.07864 & 0.0869 & 0.07017 & 0.1812 & ⋯ & 24.99 & 23.41 & 158.80 & 1956.0 & 0.1238 & 0.1866 & 0.2416 & 0.1860 & 0.2750 & 0.08902\\\\\n",
       "\t3 & 1 & 19.69 & 21.25 & 130.00 & 1203.0 & 0.10960 & 0.15990 & 0.1974 & 0.12790 & 0.2069 & ⋯ & 23.57 & 25.53 & 152.50 & 1709.0 & 0.1444 & 0.4245 & 0.4504 & 0.2430 & 0.3613 & 0.08758\\\\\n",
       "\t4 & 1 & 11.42 & 20.38 &  77.58 &  386.1 & 0.14250 & 0.28390 & 0.2414 & 0.10520 & 0.2597 & ⋯ & 14.91 & 26.50 &  98.87 &  567.7 & 0.2098 & 0.8663 & 0.6869 & 0.2575 & 0.6638 & 0.17300\\\\\n",
       "\t5 & 1 & 20.29 & 14.34 & 135.10 & 1297.0 & 0.10030 & 0.13280 & 0.1980 & 0.10430 & 0.1809 & ⋯ & 22.54 & 16.67 & 152.20 & 1575.0 & 0.1374 & 0.2050 & 0.4000 & 0.1625 & 0.2364 & 0.07678\\\\\n",
       "\t6 & 1 & 12.45 & 15.70 &  82.57 &  477.1 & 0.12780 & 0.17000 & 0.1578 & 0.08089 & 0.2087 & ⋯ & 15.47 & 23.75 & 103.40 &  741.6 & 0.1791 & 0.5249 & 0.5355 & 0.1741 & 0.3985 & 0.12440\\\\\n",
       "\\end{tabular}\n"
      ],
      "text/markdown": [
       "\n",
       "A data.frame: 6 × 31\n",
       "\n",
       "| <!--/--> | diagnosis &lt;dbl&gt; | radius_mean &lt;dbl&gt; | texture_mean &lt;dbl&gt; | perimeter_mean &lt;dbl&gt; | area_mean &lt;dbl&gt; | smoothness_mean &lt;dbl&gt; | compactness_mean &lt;dbl&gt; | concavity_mean &lt;dbl&gt; | concave_points_mean &lt;dbl&gt; | symmetry_mean &lt;dbl&gt; | ⋯ ⋯ | radius_worst &lt;dbl&gt; | texture_worst &lt;dbl&gt; | perimeter_worst &lt;dbl&gt; | area_worst &lt;dbl&gt; | smoothness_worst &lt;dbl&gt; | compactness_worst &lt;dbl&gt; | concavity_worst &lt;dbl&gt; | concave_points_worst &lt;dbl&gt; | symmetry_worst &lt;dbl&gt; | fractal_dimension_worst &lt;dbl&gt; |\n",
       "|---|---|---|---|---|---|---|---|---|---|---|---|---|---|---|---|---|---|---|---|---|---|\n",
       "| 1 | 1 | 17.99 | 10.38 | 122.80 | 1001.0 | 0.11840 | 0.27760 | 0.3001 | 0.14710 | 0.2419 | ⋯ | 25.38 | 17.33 | 184.60 | 2019.0 | 0.1622 | 0.6656 | 0.7119 | 0.2654 | 0.4601 | 0.11890 |\n",
       "| 2 | 1 | 20.57 | 17.77 | 132.90 | 1326.0 | 0.08474 | 0.07864 | 0.0869 | 0.07017 | 0.1812 | ⋯ | 24.99 | 23.41 | 158.80 | 1956.0 | 0.1238 | 0.1866 | 0.2416 | 0.1860 | 0.2750 | 0.08902 |\n",
       "| 3 | 1 | 19.69 | 21.25 | 130.00 | 1203.0 | 0.10960 | 0.15990 | 0.1974 | 0.12790 | 0.2069 | ⋯ | 23.57 | 25.53 | 152.50 | 1709.0 | 0.1444 | 0.4245 | 0.4504 | 0.2430 | 0.3613 | 0.08758 |\n",
       "| 4 | 1 | 11.42 | 20.38 |  77.58 |  386.1 | 0.14250 | 0.28390 | 0.2414 | 0.10520 | 0.2597 | ⋯ | 14.91 | 26.50 |  98.87 |  567.7 | 0.2098 | 0.8663 | 0.6869 | 0.2575 | 0.6638 | 0.17300 |\n",
       "| 5 | 1 | 20.29 | 14.34 | 135.10 | 1297.0 | 0.10030 | 0.13280 | 0.1980 | 0.10430 | 0.1809 | ⋯ | 22.54 | 16.67 | 152.20 | 1575.0 | 0.1374 | 0.2050 | 0.4000 | 0.1625 | 0.2364 | 0.07678 |\n",
       "| 6 | 1 | 12.45 | 15.70 |  82.57 |  477.1 | 0.12780 | 0.17000 | 0.1578 | 0.08089 | 0.2087 | ⋯ | 15.47 | 23.75 | 103.40 |  741.6 | 0.1791 | 0.5249 | 0.5355 | 0.1741 | 0.3985 | 0.12440 |\n",
       "\n"
      ],
      "text/plain": [
       "  diagnosis radius_mean texture_mean perimeter_mean area_mean smoothness_mean\n",
       "1 1         17.99       10.38        122.80         1001.0    0.11840        \n",
       "2 1         20.57       17.77        132.90         1326.0    0.08474        \n",
       "3 1         19.69       21.25        130.00         1203.0    0.10960        \n",
       "4 1         11.42       20.38         77.58          386.1    0.14250        \n",
       "5 1         20.29       14.34        135.10         1297.0    0.10030        \n",
       "6 1         12.45       15.70         82.57          477.1    0.12780        \n",
       "  compactness_mean concavity_mean concave_points_mean symmetry_mean <U+22EF>       \n",
       "1 0.27760          0.3001         0.14710             0.2419        <U+22EF>\n",
       "2 0.07864          0.0869         0.07017             0.1812        <U+22EF>\n",
       "3 0.15990          0.1974         0.12790             0.2069        <U+22EF>\n",
       "4 0.28390          0.2414         0.10520             0.2597        <U+22EF>\n",
       "5 0.13280          0.1980         0.10430             0.1809        <U+22EF>\n",
       "6 0.17000          0.1578         0.08089             0.2087        <U+22EF>\n",
       "  radius_worst texture_worst perimeter_worst area_worst smoothness_worst\n",
       "1 25.38        17.33         184.60          2019.0     0.1622          \n",
       "2 24.99        23.41         158.80          1956.0     0.1238          \n",
       "3 23.57        25.53         152.50          1709.0     0.1444          \n",
       "4 14.91        26.50          98.87           567.7     0.2098          \n",
       "5 22.54        16.67         152.20          1575.0     0.1374          \n",
       "6 15.47        23.75         103.40           741.6     0.1791          \n",
       "  compactness_worst concavity_worst concave_points_worst symmetry_worst\n",
       "1 0.6656            0.7119          0.2654               0.4601        \n",
       "2 0.1866            0.2416          0.1860               0.2750        \n",
       "3 0.4245            0.4504          0.2430               0.3613        \n",
       "4 0.8663            0.6869          0.2575               0.6638        \n",
       "5 0.2050            0.4000          0.1625               0.2364        \n",
       "6 0.5249            0.5355          0.1741               0.3985        \n",
       "  fractal_dimension_worst\n",
       "1 0.11890                \n",
       "2 0.08902                \n",
       "3 0.08758                \n",
       "4 0.17300                \n",
       "5 0.07678                \n",
       "6 0.12440                "
      ]
     },
     "metadata": {},
     "output_type": "display_data"
    }
   ],
   "source": [
    "colnames(breast_cancer) <- c('diagnosis', 'radius_mean', \n",
    "         'texture_mean', 'perimeter_mean', 'area_mean', \n",
    "         'smoothness_mean', 'compactness_mean', \n",
    "         'concavity_mean','concave_points_mean', \n",
    "         'symmetry_mean', 'fractal_dimension_mean',\n",
    "         'radius_se', 'texture_se', 'perimeter_se', \n",
    "         'area_se', 'smoothness_se', 'compactness_se', \n",
    "         'concavity_se', 'concave_points_se', \n",
    "         'symmetry_se', 'fractal_dimension_se', \n",
    "         'radius_worst', 'texture_worst', \n",
    "         'perimeter_worst', 'area_worst', \n",
    "         'smoothness_worst', 'compactness_worst', \n",
    "         'concavity_worst', 'concave_points_worst', \n",
    "         'symmetry_worst', 'fractal_dimension_worst')\n",
    "\n",
    "mutate(breast_cancer, diagnosis = recode(diagnosis,\"M\"=\"1\",\n",
    "                                         \"B\"=\"0\")) -> breast_cancer\n",
    "\n",
    "breast_cancer$diagnosis <- as.numeric(breast_cancer$diagnosis)\n",
    "head(breast_cancer)"
   ]
  },
  {
   "cell_type": "markdown",
   "metadata": {},
   "source": [
    "## Split data"
   ]
  },
  {
   "cell_type": "code",
   "execution_count": 4,
   "metadata": {},
   "outputs": [],
   "source": [
    "set.seed(1)\n",
    "n = nrow(breast_cancer) # 568\n",
    "z = sample(n, 0.8*n) # 0.8 for train/ 0.2 for test"
   ]
  },
  {
   "cell_type": "markdown",
   "metadata": {},
   "source": [
    "## Random Forest"
   ]
  },
  {
   "cell_type": "markdown",
   "metadata": {},
   "source": [
    "- Model default has 5 variables to try at each split.\n",
    "- Error rate 3.5%"
   ]
  },
  {
   "cell_type": "code",
   "execution_count": 5,
   "metadata": {},
   "outputs": [
    {
     "data": {
      "text/html": [
       "30"
      ],
      "text/latex": [
       "30"
      ],
      "text/markdown": [
       "30"
      ],
      "text/plain": [
       "[1] 30"
      ]
     },
     "metadata": {},
     "output_type": "display_data"
    },
    {
     "data": {
      "text/html": [
       "5.47722557505166"
      ],
      "text/latex": [
       "5.47722557505166"
      ],
      "text/markdown": [
       "5.47722557505166"
      ],
      "text/plain": [
       "[1] 5.477226"
      ]
     },
     "metadata": {},
     "output_type": "display_data"
    }
   ],
   "source": [
    "# rule of thumb : m ~= root(p)\n",
    "p = ncol(breast_cancer) -1 # -diagnosis\n",
    "p\n",
    "sqrt(p) # No. of variables tried at each split: 5"
   ]
  },
  {
   "cell_type": "code",
   "execution_count": 7,
   "metadata": {},
   "outputs": [
    {
     "data": {
      "text/plain": [
       "\n",
       "Call:\n",
       " randomForest(formula = as.factor(diagnosis) ~ ., data = breast_cancer,      subset = z) \n",
       "               Type of random forest: classification\n",
       "                     Number of trees: 500\n",
       "No. of variables tried at each split: 5\n",
       "\n",
       "        OOB estimate of  error rate: 4.84%\n",
       "Confusion matrix:\n",
       "    0   1 class.error\n",
       "0 279   7  0.02447552\n",
       "1  15 154  0.08875740"
      ]
     },
     "metadata": {},
     "output_type": "display_data"
    }
   ],
   "source": [
    "library(randomForest)\n",
    "set.seed(1)\n",
    "train_RF = randomForest(as.factor(diagnosis)~., data= breast_cancer, subset= z) # -diagnosis\n",
    "train_RF # error rate: 4.84%"
   ]
  },
  {
   "cell_type": "code",
   "execution_count": 8,
   "metadata": {},
   "outputs": [
    {
     "data": {
      "text/plain": [
       "    \n",
       "yhat  0  1\n",
       "   0 70  3\n",
       "   1  1 40"
      ]
     },
     "metadata": {},
     "output_type": "display_data"
    },
    {
     "data": {
      "text/html": [
       "0.0350877192982456"
      ],
      "text/latex": [
       "0.0350877192982456"
      ],
      "text/markdown": [
       "0.0350877192982456"
      ],
      "text/plain": [
       "[1] 0.03508772"
      ]
     },
     "metadata": {},
     "output_type": "display_data"
    }
   ],
   "source": [
    "yhat = predict(train_RF, newdata= breast_cancer[-z,], type=\"class\")\n",
    "\n",
    "table(yhat, breast_cancer$diagnosis[-z])\n",
    "mean(yhat!= breast_cancer$diagnosis[-z]) # 3.5% error rate."
   ]
  },
  {
   "cell_type": "markdown",
   "metadata": {},
   "source": [
    "## Tuning "
   ]
  },
  {
   "cell_type": "markdown",
   "metadata": {},
   "source": [
    "- Try 30 variables, 100 trees at first.\n",
    "- Get 7% error rate. Worse than before (5 variables, 500 trees)"
   ]
  },
  {
   "cell_type": "code",
   "execution_count": 9,
   "metadata": {},
   "outputs": [
    {
     "data": {
      "text/plain": [
       "\n",
       "Call:\n",
       " randomForest(formula = as.factor(diagnosis) ~ ., data = breast_cancer,      mtry = 30, ntree = 100, subset = z) \n",
       "               Type of random forest: classification\n",
       "                     Number of trees: 100\n",
       "No. of variables tried at each split: 30\n",
       "\n",
       "        OOB estimate of  error rate: 4.62%\n",
       "Confusion matrix:\n",
       "    0   1 class.error\n",
       "0 278   8  0.02797203\n",
       "1  13 156  0.07692308"
      ]
     },
     "metadata": {},
     "output_type": "display_data"
    }
   ],
   "source": [
    "set.seed(1)\n",
    "train_RF = randomForest(as.factor(diagnosis)~., data= breast_cancer, subset= z, mtry= 30, ntree= 100)\n",
    "train_RF # error rate: 4.62%"
   ]
  },
  {
   "cell_type": "code",
   "execution_count": 10,
   "metadata": {},
   "outputs": [
    {
     "data": {
      "text/plain": [
       "    \n",
       "yhat  0  1\n",
       "   0 68  5\n",
       "   1  3 38"
      ]
     },
     "metadata": {},
     "output_type": "display_data"
    },
    {
     "data": {
      "text/html": [
       "0.0701754385964912"
      ],
      "text/latex": [
       "0.0701754385964912"
      ],
      "text/markdown": [
       "0.0701754385964912"
      ],
      "text/plain": [
       "[1] 0.07017544"
      ]
     },
     "metadata": {},
     "output_type": "display_data"
    }
   ],
   "source": [
    "yhat = predict(train_RF, newdata= breast_cancer[-z,], type=\"class\")\n",
    "\n",
    "table(yhat, breast_cancer$diagnosis[-z])\n",
    "mean(yhat!= breast_cancer$diagnosis[-z]) # 7% error rate. get worse than 5 variables,500 trees"
   ]
  },
  {
   "cell_type": "code",
   "execution_count": 11,
   "metadata": {},
   "outputs": [],
   "source": [
    "set.seed(1)\n",
    "n = nrow(breast_cancer)\n",
    "z = sample(n, n*0.8)\n",
    "\n",
    "ERRORRATE = rep(0,p) # p = 11 predictors. try every predictors to find the best random forest\n",
    "optimaltrees = rep(0,p)\n",
    "\n",
    "for(k in 1:p){\n",
    "  train_RF = randomForest(as.factor(diagnosis)~., data= breast_cancer[z,], mtry= k)\n",
    "  optimaltrees[k] = which.min(train_RF$err.rate) # In each variables selection, number with lowest mse = optimal trees.\n",
    "  \n",
    "  train_RF = randomForest(as.factor(diagnosis)~., data= breast_cancer[z,], mtry= k, ntree= optimaltrees[k])\n",
    "  yhat = predict(train_RF, newdata = breast_cancer[-z,])\n",
    "  \n",
    "  ERRORRATE[k] = mean(yhat!= breast_cancer$diagnosis[-z])\n",
    "  #plot(train_RF$err.rate)\n",
    "}"
   ]
  },
  {
   "cell_type": "code",
   "execution_count": 12,
   "metadata": {},
   "outputs": [
    {
     "data": {
      "text/html": [
       "3"
      ],
      "text/latex": [
       "3"
      ],
      "text/markdown": [
       "3"
      ],
      "text/plain": [
       "[1] 3"
      ]
     },
     "metadata": {},
     "output_type": "display_data"
    }
   ],
   "source": [
    "which.min(ERRORRATE) # 3"
   ]
  },
  {
   "cell_type": "code",
   "execution_count": 13,
   "metadata": {},
   "outputs": [
    {
     "data": {
      "text/html": [
       "559"
      ],
      "text/latex": [
       "559"
      ],
      "text/markdown": [
       "559"
      ],
      "text/plain": [
       "[1] 559"
      ]
     },
     "metadata": {},
     "output_type": "display_data"
    },
    {
     "data": {
      "text/html": [
       "<style>\n",
       ".list-inline {list-style: none; margin:0; padding: 0}\n",
       ".list-inline>li {display: inline-block}\n",
       ".list-inline>li:not(:last-child)::after {content: \"\\00b7\"; padding: 0 .5ex}\n",
       "</style>\n",
       "<ol class=list-inline><li>687</li><li>548</li><li>559</li><li>700</li><li>575</li><li>545</li><li>612</li><li>633</li><li>638</li><li>524</li><li>541</li><li>653</li><li>827</li><li>536</li><li>520</li><li>529</li><li>673</li><li>984</li><li>532</li><li>541</li><li>694</li><li>773</li><li>652</li><li>513</li><li>565</li><li>890</li><li>719</li><li>530</li><li>630</li><li>503</li></ol>\n"
      ],
      "text/latex": [
       "\\begin{enumerate*}\n",
       "\\item 687\n",
       "\\item 548\n",
       "\\item 559\n",
       "\\item 700\n",
       "\\item 575\n",
       "\\item 545\n",
       "\\item 612\n",
       "\\item 633\n",
       "\\item 638\n",
       "\\item 524\n",
       "\\item 541\n",
       "\\item 653\n",
       "\\item 827\n",
       "\\item 536\n",
       "\\item 520\n",
       "\\item 529\n",
       "\\item 673\n",
       "\\item 984\n",
       "\\item 532\n",
       "\\item 541\n",
       "\\item 694\n",
       "\\item 773\n",
       "\\item 652\n",
       "\\item 513\n",
       "\\item 565\n",
       "\\item 890\n",
       "\\item 719\n",
       "\\item 530\n",
       "\\item 630\n",
       "\\item 503\n",
       "\\end{enumerate*}\n"
      ],
      "text/markdown": [
       "1. 687\n",
       "2. 548\n",
       "3. 559\n",
       "4. 700\n",
       "5. 575\n",
       "6. 545\n",
       "7. 612\n",
       "8. 633\n",
       "9. 638\n",
       "10. 524\n",
       "11. 541\n",
       "12. 653\n",
       "13. 827\n",
       "14. 536\n",
       "15. 520\n",
       "16. 529\n",
       "17. 673\n",
       "18. 984\n",
       "19. 532\n",
       "20. 541\n",
       "21. 694\n",
       "22. 773\n",
       "23. 652\n",
       "24. 513\n",
       "25. 565\n",
       "26. 890\n",
       "27. 719\n",
       "28. 530\n",
       "29. 630\n",
       "30. 503\n",
       "\n",
       "\n"
      ],
      "text/plain": [
       " [1] 687 548 559 700 575 545 612 633 638 524 541 653 827 536 520 529 673 984 532\n",
       "[20] 541 694 773 652 513 565 890 719 530 630 503"
      ]
     },
     "metadata": {},
     "output_type": "display_data"
    }
   ],
   "source": [
    "optimaltrees[3]\n",
    "optimaltrees # HOW MANY TREE FOR EACH VARIABLE SPLIT"
   ]
  },
  {
   "cell_type": "markdown",
   "metadata": {},
   "source": [
    "## Fit best random forest model to test"
   ]
  },
  {
   "cell_type": "markdown",
   "metadata": {},
   "source": [
    "- Compare with 30 variables and 100 trees model\n",
    "- Get lower error rate. From 7% to 4.38%"
   ]
  },
  {
   "cell_type": "code",
   "execution_count": 14,
   "metadata": {},
   "outputs": [
    {
     "data": {
      "text/plain": [
       "\n",
       "Call:\n",
       " randomForest(formula = as.factor(diagnosis) ~ ., data = breast_cancer[z,      ], mtry = 3, ntree = 559) \n",
       "               Type of random forest: classification\n",
       "                     Number of trees: 559\n",
       "No. of variables tried at each split: 3\n",
       "\n",
       "        OOB estimate of  error rate: 4.4%\n",
       "Confusion matrix:\n",
       "    0   1 class.error\n",
       "0 279   7  0.02447552\n",
       "1  13 156  0.07692308"
      ]
     },
     "metadata": {},
     "output_type": "display_data"
    }
   ],
   "source": [
    "# fit best random forest trees\n",
    "set.seed(1)\n",
    "best_RF = randomForest(as.factor(diagnosis)~., data= breast_cancer[z,], mtry= 3, ntree= 559) \n",
    "best_RF # training 4.62 -> 4.4% error rate"
   ]
  },
  {
   "cell_type": "code",
   "execution_count": 15,
   "metadata": {},
   "outputs": [
    {
     "data": {
      "text/plain": [
       "    \n",
       "yhat  0  1\n",
       "   0 70  4\n",
       "   1  1 39"
      ]
     },
     "metadata": {},
     "output_type": "display_data"
    },
    {
     "data": {
      "text/html": [
       "0.043859649122807"
      ],
      "text/latex": [
       "0.043859649122807"
      ],
      "text/markdown": [
       "0.043859649122807"
      ],
      "text/plain": [
       "[1] 0.04385965"
      ]
     },
     "metadata": {},
     "output_type": "display_data"
    }
   ],
   "source": [
    "yhat = predict(best_RF, newdata= breast_cancer[-z,], type=\"class\")\n",
    "\n",
    "table(yhat, breast_cancer$diagnosis[-z])\n",
    "mean(yhat!= breast_cancer$diagnosis[-z]) \n",
    "# testing 7% -> 4.38%"
   ]
  },
  {
   "cell_type": "code",
   "execution_count": 17,
   "metadata": {},
   "outputs": [
    {
     "data": {
      "image/png": "[encoded data removed]",
      "text/plain": [
       "Plot with title \"best_RF\""
      ]
     },
     "metadata": {
      "image/png": {
       "height": 420,
       "width": 420
      }
     },
     "output_type": "display_data"
    }
   ],
   "source": [
    "#importance(best_RF) \n",
    "varImpPlot(best_RF)"
   ]
  },
  {
   "cell_type": "markdown",
   "metadata": {},
   "source": [
    "# Logistic Regression"
   ]
  },
  {
   "cell_type": "markdown",
   "metadata": {},
   "source": [
    "## Data Preprocessing (Same as Random Forest)"
   ]
  },
  {
   "cell_type": "code",
   "execution_count": 81,
   "metadata": {},
   "outputs": [
    {
     "data": {
      "text/html": [
       "<table class=\"dataframe\">\n",
       "<caption>A data.frame: 6 × 31</caption>\n",
       "<thead>\n",
       "\t<tr><th></th><th scope=col>diagnosis</th><th scope=col>radius_mean</th><th scope=col>texture_mean</th><th scope=col>perimeter_mean</th><th scope=col>area_mean</th><th scope=col>smoothness_mean</th><th scope=col>compactness_mean</th><th scope=col>concavity_mean</th><th scope=col>concave.points_mean</th><th scope=col>symmetry_mean</th><th scope=col>⋯</th><th scope=col>radius_worst</th><th scope=col>texture_worst</th><th scope=col>perimeter_worst</th><th scope=col>area_worst</th><th scope=col>smoothness_worst</th><th scope=col>compactness_worst</th><th scope=col>concavity_worst</th><th scope=col>concave.points_worst</th><th scope=col>symmetry_worst</th><th scope=col>fractal_dimension_worst</th></tr>\n",
       "\t<tr><th></th><th scope=col>&lt;chr&gt;</th><th scope=col>&lt;dbl&gt;</th><th scope=col>&lt;dbl&gt;</th><th scope=col>&lt;dbl&gt;</th><th scope=col>&lt;dbl&gt;</th><th scope=col>&lt;dbl&gt;</th><th scope=col>&lt;dbl&gt;</th><th scope=col>&lt;dbl&gt;</th><th scope=col>&lt;dbl&gt;</th><th scope=col>&lt;dbl&gt;</th><th scope=col>⋯</th><th scope=col>&lt;dbl&gt;</th><th scope=col>&lt;dbl&gt;</th><th scope=col>&lt;dbl&gt;</th><th scope=col>&lt;dbl&gt;</th><th scope=col>&lt;dbl&gt;</th><th scope=col>&lt;dbl&gt;</th><th scope=col>&lt;dbl&gt;</th><th scope=col>&lt;dbl&gt;</th><th scope=col>&lt;dbl&gt;</th><th scope=col>&lt;dbl&gt;</th></tr>\n",
       "</thead>\n",
       "<tbody>\n",
       "\t<tr><th scope=row>1</th><td>M</td><td>17.99</td><td>10.38</td><td>122.80</td><td>1001.0</td><td>0.11840</td><td>0.27760</td><td>0.3001</td><td>0.14710</td><td>0.2419</td><td>⋯</td><td>25.38</td><td>17.33</td><td>184.60</td><td>2019.0</td><td>0.1622</td><td>0.6656</td><td>0.7119</td><td>0.2654</td><td>0.4601</td><td>0.11890</td></tr>\n",
       "\t<tr><th scope=row>2</th><td>M</td><td>20.57</td><td>17.77</td><td>132.90</td><td>1326.0</td><td>0.08474</td><td>0.07864</td><td>0.0869</td><td>0.07017</td><td>0.1812</td><td>⋯</td><td>24.99</td><td>23.41</td><td>158.80</td><td>1956.0</td><td>0.1238</td><td>0.1866</td><td>0.2416</td><td>0.1860</td><td>0.2750</td><td>0.08902</td></tr>\n",
       "\t<tr><th scope=row>3</th><td>M</td><td>19.69</td><td>21.25</td><td>130.00</td><td>1203.0</td><td>0.10960</td><td>0.15990</td><td>0.1974</td><td>0.12790</td><td>0.2069</td><td>⋯</td><td>23.57</td><td>25.53</td><td>152.50</td><td>1709.0</td><td>0.1444</td><td>0.4245</td><td>0.4504</td><td>0.2430</td><td>0.3613</td><td>0.08758</td></tr>\n",
       "\t<tr><th scope=row>4</th><td>M</td><td>11.42</td><td>20.38</td><td> 77.58</td><td> 386.1</td><td>0.14250</td><td>0.28390</td><td>0.2414</td><td>0.10520</td><td>0.2597</td><td>⋯</td><td>14.91</td><td>26.50</td><td> 98.87</td><td> 567.7</td><td>0.2098</td><td>0.8663</td><td>0.6869</td><td>0.2575</td><td>0.6638</td><td>0.17300</td></tr>\n",
       "\t<tr><th scope=row>5</th><td>M</td><td>20.29</td><td>14.34</td><td>135.10</td><td>1297.0</td><td>0.10030</td><td>0.13280</td><td>0.1980</td><td>0.10430</td><td>0.1809</td><td>⋯</td><td>22.54</td><td>16.67</td><td>152.20</td><td>1575.0</td><td>0.1374</td><td>0.2050</td><td>0.4000</td><td>0.1625</td><td>0.2364</td><td>0.07678</td></tr>\n",
       "\t<tr><th scope=row>6</th><td>M</td><td>12.45</td><td>15.70</td><td> 82.57</td><td> 477.1</td><td>0.12780</td><td>0.17000</td><td>0.1578</td><td>0.08089</td><td>0.2087</td><td>⋯</td><td>15.47</td><td>23.75</td><td>103.40</td><td> 741.6</td><td>0.1791</td><td>0.5249</td><td>0.5355</td><td>0.1741</td><td>0.3985</td><td>0.12440</td></tr>\n",
       "</tbody>\n",
       "</table>\n"
      ],
      "text/latex": [
       "A data.frame: 6 × 31\n",
       "\\begin{tabular}{r|lllllllllllllllllllll}\n",
       "  & diagnosis & radius\\_mean & texture\\_mean & perimeter\\_mean & area\\_mean & smoothness\\_mean & compactness\\_mean & concavity\\_mean & concave.points\\_mean & symmetry\\_mean & ⋯ & radius\\_worst & texture\\_worst & perimeter\\_worst & area\\_worst & smoothness\\_worst & compactness\\_worst & concavity\\_worst & concave.points\\_worst & symmetry\\_worst & fractal\\_dimension\\_worst\\\\\n",
       "  & <chr> & <dbl> & <dbl> & <dbl> & <dbl> & <dbl> & <dbl> & <dbl> & <dbl> & <dbl> & ⋯ & <dbl> & <dbl> & <dbl> & <dbl> & <dbl> & <dbl> & <dbl> & <dbl> & <dbl> & <dbl>\\\\\n",
       "\\hline\n",
       "\t1 & M & 17.99 & 10.38 & 122.80 & 1001.0 & 0.11840 & 0.27760 & 0.3001 & 0.14710 & 0.2419 & ⋯ & 25.38 & 17.33 & 184.60 & 2019.0 & 0.1622 & 0.6656 & 0.7119 & 0.2654 & 0.4601 & 0.11890\\\\\n",
       "\t2 & M & 20.57 & 17.77 & 132.90 & 1326.0 & 0.08474 & 0.07864 & 0.0869 & 0.07017 & 0.1812 & ⋯ & 24.99 & 23.41 & 158.80 & 1956.0 & 0.1238 & 0.1866 & 0.2416 & 0.1860 & 0.2750 & 0.08902\\\\\n",
       "\t3 & M & 19.69 & 21.25 & 130.00 & 1203.0 & 0.10960 & 0.15990 & 0.1974 & 0.12790 & 0.2069 & ⋯ & 23.57 & 25.53 & 152.50 & 1709.0 & 0.1444 & 0.4245 & 0.4504 & 0.2430 & 0.3613 & 0.08758\\\\\n",
       "\t4 & M & 11.42 & 20.38 &  77.58 &  386.1 & 0.14250 & 0.28390 & 0.2414 & 0.10520 & 0.2597 & ⋯ & 14.91 & 26.50 &  98.87 &  567.7 & 0.2098 & 0.8663 & 0.6869 & 0.2575 & 0.6638 & 0.17300\\\\\n",
       "\t5 & M & 20.29 & 14.34 & 135.10 & 1297.0 & 0.10030 & 0.13280 & 0.1980 & 0.10430 & 0.1809 & ⋯ & 22.54 & 16.67 & 152.20 & 1575.0 & 0.1374 & 0.2050 & 0.4000 & 0.1625 & 0.2364 & 0.07678\\\\\n",
       "\t6 & M & 12.45 & 15.70 &  82.57 &  477.1 & 0.12780 & 0.17000 & 0.1578 & 0.08089 & 0.2087 & ⋯ & 15.47 & 23.75 & 103.40 &  741.6 & 0.1791 & 0.5249 & 0.5355 & 0.1741 & 0.3985 & 0.12440\\\\\n",
       "\\end{tabular}\n"
      ],
      "text/markdown": [
       "\n",
       "A data.frame: 6 × 31\n",
       "\n",
       "| <!--/--> | diagnosis &lt;chr&gt; | radius_mean &lt;dbl&gt; | texture_mean &lt;dbl&gt; | perimeter_mean &lt;dbl&gt; | area_mean &lt;dbl&gt; | smoothness_mean &lt;dbl&gt; | compactness_mean &lt;dbl&gt; | concavity_mean &lt;dbl&gt; | concave.points_mean &lt;dbl&gt; | symmetry_mean &lt;dbl&gt; | ⋯ ⋯ | radius_worst &lt;dbl&gt; | texture_worst &lt;dbl&gt; | perimeter_worst &lt;dbl&gt; | area_worst &lt;dbl&gt; | smoothness_worst &lt;dbl&gt; | compactness_worst &lt;dbl&gt; | concavity_worst &lt;dbl&gt; | concave.points_worst &lt;dbl&gt; | symmetry_worst &lt;dbl&gt; | fractal_dimension_worst &lt;dbl&gt; |\n",
       "|---|---|---|---|---|---|---|---|---|---|---|---|---|---|---|---|---|---|---|---|---|---|\n",
       "| 1 | M | 17.99 | 10.38 | 122.80 | 1001.0 | 0.11840 | 0.27760 | 0.3001 | 0.14710 | 0.2419 | ⋯ | 25.38 | 17.33 | 184.60 | 2019.0 | 0.1622 | 0.6656 | 0.7119 | 0.2654 | 0.4601 | 0.11890 |\n",
       "| 2 | M | 20.57 | 17.77 | 132.90 | 1326.0 | 0.08474 | 0.07864 | 0.0869 | 0.07017 | 0.1812 | ⋯ | 24.99 | 23.41 | 158.80 | 1956.0 | 0.1238 | 0.1866 | 0.2416 | 0.1860 | 0.2750 | 0.08902 |\n",
       "| 3 | M | 19.69 | 21.25 | 130.00 | 1203.0 | 0.10960 | 0.15990 | 0.1974 | 0.12790 | 0.2069 | ⋯ | 23.57 | 25.53 | 152.50 | 1709.0 | 0.1444 | 0.4245 | 0.4504 | 0.2430 | 0.3613 | 0.08758 |\n",
       "| 4 | M | 11.42 | 20.38 |  77.58 |  386.1 | 0.14250 | 0.28390 | 0.2414 | 0.10520 | 0.2597 | ⋯ | 14.91 | 26.50 |  98.87 |  567.7 | 0.2098 | 0.8663 | 0.6869 | 0.2575 | 0.6638 | 0.17300 |\n",
       "| 5 | M | 20.29 | 14.34 | 135.10 | 1297.0 | 0.10030 | 0.13280 | 0.1980 | 0.10430 | 0.1809 | ⋯ | 22.54 | 16.67 | 152.20 | 1575.0 | 0.1374 | 0.2050 | 0.4000 | 0.1625 | 0.2364 | 0.07678 |\n",
       "| 6 | M | 12.45 | 15.70 |  82.57 |  477.1 | 0.12780 | 0.17000 | 0.1578 | 0.08089 | 0.2087 | ⋯ | 15.47 | 23.75 | 103.40 |  741.6 | 0.1791 | 0.5249 | 0.5355 | 0.1741 | 0.3985 | 0.12440 |\n",
       "\n"
      ],
      "text/plain": [
       "  diagnosis radius_mean texture_mean perimeter_mean area_mean smoothness_mean\n",
       "1 M         17.99       10.38        122.80         1001.0    0.11840        \n",
       "2 M         20.57       17.77        132.90         1326.0    0.08474        \n",
       "3 M         19.69       21.25        130.00         1203.0    0.10960        \n",
       "4 M         11.42       20.38         77.58          386.1    0.14250        \n",
       "5 M         20.29       14.34        135.10         1297.0    0.10030        \n",
       "6 M         12.45       15.70         82.57          477.1    0.12780        \n",
       "  compactness_mean concavity_mean concave.points_mean symmetry_mean <U+22EF>       \n",
       "1 0.27760          0.3001         0.14710             0.2419        <U+22EF>\n",
       "2 0.07864          0.0869         0.07017             0.1812        <U+22EF>\n",
       "3 0.15990          0.1974         0.12790             0.2069        <U+22EF>\n",
       "4 0.28390          0.2414         0.10520             0.2597        <U+22EF>\n",
       "5 0.13280          0.1980         0.10430             0.1809        <U+22EF>\n",
       "6 0.17000          0.1578         0.08089             0.2087        <U+22EF>\n",
       "  radius_worst texture_worst perimeter_worst area_worst smoothness_worst\n",
       "1 25.38        17.33         184.60          2019.0     0.1622          \n",
       "2 24.99        23.41         158.80          1956.0     0.1238          \n",
       "3 23.57        25.53         152.50          1709.0     0.1444          \n",
       "4 14.91        26.50          98.87           567.7     0.2098          \n",
       "5 22.54        16.67         152.20          1575.0     0.1374          \n",
       "6 15.47        23.75         103.40           741.6     0.1791          \n",
       "  compactness_worst concavity_worst concave.points_worst symmetry_worst\n",
       "1 0.6656            0.7119          0.2654               0.4601        \n",
       "2 0.1866            0.2416          0.1860               0.2750        \n",
       "3 0.4245            0.4504          0.2430               0.3613        \n",
       "4 0.8663            0.6869          0.2575               0.6638        \n",
       "5 0.2050            0.4000          0.1625               0.2364        \n",
       "6 0.5249            0.5355          0.1741               0.3985        \n",
       "  fractal_dimension_worst\n",
       "1 0.11890                \n",
       "2 0.08902                \n",
       "3 0.08758                \n",
       "4 0.17300                \n",
       "5 0.07678                \n",
       "6 0.12440                "
      ]
     },
     "metadata": {},
     "output_type": "display_data"
    }
   ],
   "source": [
    "breast_cancer = read.csv(\"data.csv\")\n",
    "breast_cancer$X <- NULL\n",
    "breast_cancer$id <- NULL\n",
    "head(breast_cancer)"
   ]
  },
  {
   "cell_type": "code",
   "execution_count": 82,
   "metadata": {},
   "outputs": [
    {
     "data": {
      "text/html": [
       "<table class=\"dataframe\">\n",
       "<caption>A data.frame: 6 × 31</caption>\n",
       "<thead>\n",
       "\t<tr><th></th><th scope=col>diagnosis</th><th scope=col>radius_mean</th><th scope=col>texture_mean</th><th scope=col>perimeter_mean</th><th scope=col>area_mean</th><th scope=col>smoothness_mean</th><th scope=col>compactness_mean</th><th scope=col>concavity_mean</th><th scope=col>concave_points_mean</th><th scope=col>symmetry_mean</th><th scope=col>⋯</th><th scope=col>radius_worst</th><th scope=col>texture_worst</th><th scope=col>perimeter_worst</th><th scope=col>area_worst</th><th scope=col>smoothness_worst</th><th scope=col>compactness_worst</th><th scope=col>concavity_worst</th><th scope=col>concave_points_worst</th><th scope=col>symmetry_worst</th><th scope=col>fractal_dimension_worst</th></tr>\n",
       "\t<tr><th></th><th scope=col>&lt;chr&gt;</th><th scope=col>&lt;dbl&gt;</th><th scope=col>&lt;dbl&gt;</th><th scope=col>&lt;dbl&gt;</th><th scope=col>&lt;dbl&gt;</th><th scope=col>&lt;dbl&gt;</th><th scope=col>&lt;dbl&gt;</th><th scope=col>&lt;dbl&gt;</th><th scope=col>&lt;dbl&gt;</th><th scope=col>&lt;dbl&gt;</th><th scope=col>⋯</th><th scope=col>&lt;dbl&gt;</th><th scope=col>&lt;dbl&gt;</th><th scope=col>&lt;dbl&gt;</th><th scope=col>&lt;dbl&gt;</th><th scope=col>&lt;dbl&gt;</th><th scope=col>&lt;dbl&gt;</th><th scope=col>&lt;dbl&gt;</th><th scope=col>&lt;dbl&gt;</th><th scope=col>&lt;dbl&gt;</th><th scope=col>&lt;dbl&gt;</th></tr>\n",
       "</thead>\n",
       "<tbody>\n",
       "\t<tr><th scope=row>1</th><td>M</td><td>17.99</td><td>10.38</td><td>122.80</td><td>1001.0</td><td>0.11840</td><td>0.27760</td><td>0.3001</td><td>0.14710</td><td>0.2419</td><td>⋯</td><td>25.38</td><td>17.33</td><td>184.60</td><td>2019.0</td><td>0.1622</td><td>0.6656</td><td>0.7119</td><td>0.2654</td><td>0.4601</td><td>0.11890</td></tr>\n",
       "\t<tr><th scope=row>2</th><td>M</td><td>20.57</td><td>17.77</td><td>132.90</td><td>1326.0</td><td>0.08474</td><td>0.07864</td><td>0.0869</td><td>0.07017</td><td>0.1812</td><td>⋯</td><td>24.99</td><td>23.41</td><td>158.80</td><td>1956.0</td><td>0.1238</td><td>0.1866</td><td>0.2416</td><td>0.1860</td><td>0.2750</td><td>0.08902</td></tr>\n",
       "\t<tr><th scope=row>3</th><td>M</td><td>19.69</td><td>21.25</td><td>130.00</td><td>1203.0</td><td>0.10960</td><td>0.15990</td><td>0.1974</td><td>0.12790</td><td>0.2069</td><td>⋯</td><td>23.57</td><td>25.53</td><td>152.50</td><td>1709.0</td><td>0.1444</td><td>0.4245</td><td>0.4504</td><td>0.2430</td><td>0.3613</td><td>0.08758</td></tr>\n",
       "\t<tr><th scope=row>4</th><td>M</td><td>11.42</td><td>20.38</td><td> 77.58</td><td> 386.1</td><td>0.14250</td><td>0.28390</td><td>0.2414</td><td>0.10520</td><td>0.2597</td><td>⋯</td><td>14.91</td><td>26.50</td><td> 98.87</td><td> 567.7</td><td>0.2098</td><td>0.8663</td><td>0.6869</td><td>0.2575</td><td>0.6638</td><td>0.17300</td></tr>\n",
       "\t<tr><th scope=row>5</th><td>M</td><td>20.29</td><td>14.34</td><td>135.10</td><td>1297.0</td><td>0.10030</td><td>0.13280</td><td>0.1980</td><td>0.10430</td><td>0.1809</td><td>⋯</td><td>22.54</td><td>16.67</td><td>152.20</td><td>1575.0</td><td>0.1374</td><td>0.2050</td><td>0.4000</td><td>0.1625</td><td>0.2364</td><td>0.07678</td></tr>\n",
       "\t<tr><th scope=row>6</th><td>M</td><td>12.45</td><td>15.70</td><td> 82.57</td><td> 477.1</td><td>0.12780</td><td>0.17000</td><td>0.1578</td><td>0.08089</td><td>0.2087</td><td>⋯</td><td>15.47</td><td>23.75</td><td>103.40</td><td> 741.6</td><td>0.1791</td><td>0.5249</td><td>0.5355</td><td>0.1741</td><td>0.3985</td><td>0.12440</td></tr>\n",
       "</tbody>\n",
       "</table>\n"
      ],
      "text/latex": [
       "A data.frame: 6 × 31\n",
       "\\begin{tabular}{r|lllllllllllllllllllll}\n",
       "  & diagnosis & radius\\_mean & texture\\_mean & perimeter\\_mean & area\\_mean & smoothness\\_mean & compactness\\_mean & concavity\\_mean & concave\\_points\\_mean & symmetry\\_mean & ⋯ & radius\\_worst & texture\\_worst & perimeter\\_worst & area\\_worst & smoothness\\_worst & compactness\\_worst & concavity\\_worst & concave\\_points\\_worst & symmetry\\_worst & fractal\\_dimension\\_worst\\\\\n",
       "  & <chr> & <dbl> & <dbl> & <dbl> & <dbl> & <dbl> & <dbl> & <dbl> & <dbl> & <dbl> & ⋯ & <dbl> & <dbl> & <dbl> & <dbl> & <dbl> & <dbl> & <dbl> & <dbl> & <dbl> & <dbl>\\\\\n",
       "\\hline\n",
       "\t1 & M & 17.99 & 10.38 & 122.80 & 1001.0 & 0.11840 & 0.27760 & 0.3001 & 0.14710 & 0.2419 & ⋯ & 25.38 & 17.33 & 184.60 & 2019.0 & 0.1622 & 0.6656 & 0.7119 & 0.2654 & 0.4601 & 0.11890\\\\\n",
       "\t2 & M & 20.57 & 17.77 & 132.90 & 1326.0 & 0.08474 & 0.07864 & 0.0869 & 0.07017 & 0.1812 & ⋯ & 24.99 & 23.41 & 158.80 & 1956.0 & 0.1238 & 0.1866 & 0.2416 & 0.1860 & 0.2750 & 0.08902\\\\\n",
       "\t3 & M & 19.69 & 21.25 & 130.00 & 1203.0 & 0.10960 & 0.15990 & 0.1974 & 0.12790 & 0.2069 & ⋯ & 23.57 & 25.53 & 152.50 & 1709.0 & 0.1444 & 0.4245 & 0.4504 & 0.2430 & 0.3613 & 0.08758\\\\\n",
       "\t4 & M & 11.42 & 20.38 &  77.58 &  386.1 & 0.14250 & 0.28390 & 0.2414 & 0.10520 & 0.2597 & ⋯ & 14.91 & 26.50 &  98.87 &  567.7 & 0.2098 & 0.8663 & 0.6869 & 0.2575 & 0.6638 & 0.17300\\\\\n",
       "\t5 & M & 20.29 & 14.34 & 135.10 & 1297.0 & 0.10030 & 0.13280 & 0.1980 & 0.10430 & 0.1809 & ⋯ & 22.54 & 16.67 & 152.20 & 1575.0 & 0.1374 & 0.2050 & 0.4000 & 0.1625 & 0.2364 & 0.07678\\\\\n",
       "\t6 & M & 12.45 & 15.70 &  82.57 &  477.1 & 0.12780 & 0.17000 & 0.1578 & 0.08089 & 0.2087 & ⋯ & 15.47 & 23.75 & 103.40 &  741.6 & 0.1791 & 0.5249 & 0.5355 & 0.1741 & 0.3985 & 0.12440\\\\\n",
       "\\end{tabular}\n"
      ],
      "text/markdown": [
       "\n",
       "A data.frame: 6 × 31\n",
       "\n",
       "| <!--/--> | diagnosis &lt;chr&gt; | radius_mean &lt;dbl&gt; | texture_mean &lt;dbl&gt; | perimeter_mean &lt;dbl&gt; | area_mean &lt;dbl&gt; | smoothness_mean &lt;dbl&gt; | compactness_mean &lt;dbl&gt; | concavity_mean &lt;dbl&gt; | concave_points_mean &lt;dbl&gt; | symmetry_mean &lt;dbl&gt; | ⋯ ⋯ | radius_worst &lt;dbl&gt; | texture_worst &lt;dbl&gt; | perimeter_worst &lt;dbl&gt; | area_worst &lt;dbl&gt; | smoothness_worst &lt;dbl&gt; | compactness_worst &lt;dbl&gt; | concavity_worst &lt;dbl&gt; | concave_points_worst &lt;dbl&gt; | symmetry_worst &lt;dbl&gt; | fractal_dimension_worst &lt;dbl&gt; |\n",
       "|---|---|---|---|---|---|---|---|---|---|---|---|---|---|---|---|---|---|---|---|---|---|\n",
       "| 1 | M | 17.99 | 10.38 | 122.80 | 1001.0 | 0.11840 | 0.27760 | 0.3001 | 0.14710 | 0.2419 | ⋯ | 25.38 | 17.33 | 184.60 | 2019.0 | 0.1622 | 0.6656 | 0.7119 | 0.2654 | 0.4601 | 0.11890 |\n",
       "| 2 | M | 20.57 | 17.77 | 132.90 | 1326.0 | 0.08474 | 0.07864 | 0.0869 | 0.07017 | 0.1812 | ⋯ | 24.99 | 23.41 | 158.80 | 1956.0 | 0.1238 | 0.1866 | 0.2416 | 0.1860 | 0.2750 | 0.08902 |\n",
       "| 3 | M | 19.69 | 21.25 | 130.00 | 1203.0 | 0.10960 | 0.15990 | 0.1974 | 0.12790 | 0.2069 | ⋯ | 23.57 | 25.53 | 152.50 | 1709.0 | 0.1444 | 0.4245 | 0.4504 | 0.2430 | 0.3613 | 0.08758 |\n",
       "| 4 | M | 11.42 | 20.38 |  77.58 |  386.1 | 0.14250 | 0.28390 | 0.2414 | 0.10520 | 0.2597 | ⋯ | 14.91 | 26.50 |  98.87 |  567.7 | 0.2098 | 0.8663 | 0.6869 | 0.2575 | 0.6638 | 0.17300 |\n",
       "| 5 | M | 20.29 | 14.34 | 135.10 | 1297.0 | 0.10030 | 0.13280 | 0.1980 | 0.10430 | 0.1809 | ⋯ | 22.54 | 16.67 | 152.20 | 1575.0 | 0.1374 | 0.2050 | 0.4000 | 0.1625 | 0.2364 | 0.07678 |\n",
       "| 6 | M | 12.45 | 15.70 |  82.57 |  477.1 | 0.12780 | 0.17000 | 0.1578 | 0.08089 | 0.2087 | ⋯ | 15.47 | 23.75 | 103.40 |  741.6 | 0.1791 | 0.5249 | 0.5355 | 0.1741 | 0.3985 | 0.12440 |\n",
       "\n"
      ],
      "text/plain": [
       "  diagnosis radius_mean texture_mean perimeter_mean area_mean smoothness_mean\n",
       "1 M         17.99       10.38        122.80         1001.0    0.11840        \n",
       "2 M         20.57       17.77        132.90         1326.0    0.08474        \n",
       "3 M         19.69       21.25        130.00         1203.0    0.10960        \n",
       "4 M         11.42       20.38         77.58          386.1    0.14250        \n",
       "5 M         20.29       14.34        135.10         1297.0    0.10030        \n",
       "6 M         12.45       15.70         82.57          477.1    0.12780        \n",
       "  compactness_mean concavity_mean concave_points_mean symmetry_mean <U+22EF>       \n",
       "1 0.27760          0.3001         0.14710             0.2419        <U+22EF>\n",
       "2 0.07864          0.0869         0.07017             0.1812        <U+22EF>\n",
       "3 0.15990          0.1974         0.12790             0.2069        <U+22EF>\n",
       "4 0.28390          0.2414         0.10520             0.2597        <U+22EF>\n",
       "5 0.13280          0.1980         0.10430             0.1809        <U+22EF>\n",
       "6 0.17000          0.1578         0.08089             0.2087        <U+22EF>\n",
       "  radius_worst texture_worst perimeter_worst area_worst smoothness_worst\n",
       "1 25.38        17.33         184.60          2019.0     0.1622          \n",
       "2 24.99        23.41         158.80          1956.0     0.1238          \n",
       "3 23.57        25.53         152.50          1709.0     0.1444          \n",
       "4 14.91        26.50          98.87           567.7     0.2098          \n",
       "5 22.54        16.67         152.20          1575.0     0.1374          \n",
       "6 15.47        23.75         103.40           741.6     0.1791          \n",
       "  compactness_worst concavity_worst concave_points_worst symmetry_worst\n",
       "1 0.6656            0.7119          0.2654               0.4601        \n",
       "2 0.1866            0.2416          0.1860               0.2750        \n",
       "3 0.4245            0.4504          0.2430               0.3613        \n",
       "4 0.8663            0.6869          0.2575               0.6638        \n",
       "5 0.2050            0.4000          0.1625               0.2364        \n",
       "6 0.5249            0.5355          0.1741               0.3985        \n",
       "  fractal_dimension_worst\n",
       "1 0.11890                \n",
       "2 0.08902                \n",
       "3 0.08758                \n",
       "4 0.17300                \n",
       "5 0.07678                \n",
       "6 0.12440                "
      ]
     },
     "metadata": {},
     "output_type": "display_data"
    }
   ],
   "source": [
    "library(tidyverse)\n",
    "colnames(breast_cancer) <- c('diagnosis', 'radius_mean', \n",
    "         'texture_mean', 'perimeter_mean', 'area_mean', \n",
    "         'smoothness_mean', 'compactness_mean', \n",
    "         'concavity_mean','concave_points_mean', \n",
    "         'symmetry_mean', 'fractal_dimension_mean',\n",
    "         'radius_se', 'texture_se', 'perimeter_se', \n",
    "         'area_se', 'smoothness_se', 'compactness_se', \n",
    "         'concavity_se', 'concave_points_se', \n",
    "         'symmetry_se', 'fractal_dimension_se', \n",
    "         'radius_worst', 'texture_worst', \n",
    "         'perimeter_worst', 'area_worst', \n",
    "         'smoothness_worst', 'compactness_worst', \n",
    "         'concavity_worst', 'concave_points_worst', \n",
    "         'symmetry_worst', 'fractal_dimension_worst')\n",
    "head(breast_cancer)"
   ]
  },
  {
   "cell_type": "code",
   "execution_count": 85,
   "metadata": {},
   "outputs": [
    {
     "data": {
      "text/plain": [
       "\n",
       "  B   M \n",
       "357 212 "
      ]
     },
     "metadata": {},
     "output_type": "display_data"
    }
   ],
   "source": [
    "table(breast_cancer$diagnosis)"
   ]
  },
  {
   "cell_type": "markdown",
   "metadata": {},
   "source": [
    "# Resampling"
   ]
  },
  {
   "cell_type": "code",
   "execution_count": 121,
   "metadata": {},
   "outputs": [],
   "source": [
    "library(ROSE)\n",
    "bal_breast_cancer <- ovun.sample(diagnosis~., breast_cancer, method=\"both\", N= 726)"
   ]
  },
  {
   "cell_type": "code",
   "execution_count": 122,
   "metadata": {},
   "outputs": [
    {
     "data": {
      "text/html": [
       "<table class=\"dataframe\">\n",
       "<caption>A data.frame: 6 × 31</caption>\n",
       "<thead>\n",
       "\t<tr><th></th><th scope=col>diagnosis</th><th scope=col>radius_mean</th><th scope=col>texture_mean</th><th scope=col>perimeter_mean</th><th scope=col>area_mean</th><th scope=col>smoothness_mean</th><th scope=col>compactness_mean</th><th scope=col>concavity_mean</th><th scope=col>concave_points_mean</th><th scope=col>symmetry_mean</th><th scope=col>⋯</th><th scope=col>radius_worst</th><th scope=col>texture_worst</th><th scope=col>perimeter_worst</th><th scope=col>area_worst</th><th scope=col>smoothness_worst</th><th scope=col>compactness_worst</th><th scope=col>concavity_worst</th><th scope=col>concave_points_worst</th><th scope=col>symmetry_worst</th><th scope=col>fractal_dimension_worst</th></tr>\n",
       "\t<tr><th></th><th scope=col>&lt;chr&gt;</th><th scope=col>&lt;dbl&gt;</th><th scope=col>&lt;dbl&gt;</th><th scope=col>&lt;dbl&gt;</th><th scope=col>&lt;dbl&gt;</th><th scope=col>&lt;dbl&gt;</th><th scope=col>&lt;dbl&gt;</th><th scope=col>&lt;dbl&gt;</th><th scope=col>&lt;dbl&gt;</th><th scope=col>&lt;dbl&gt;</th><th scope=col>⋯</th><th scope=col>&lt;dbl&gt;</th><th scope=col>&lt;dbl&gt;</th><th scope=col>&lt;dbl&gt;</th><th scope=col>&lt;dbl&gt;</th><th scope=col>&lt;dbl&gt;</th><th scope=col>&lt;dbl&gt;</th><th scope=col>&lt;dbl&gt;</th><th scope=col>&lt;dbl&gt;</th><th scope=col>&lt;dbl&gt;</th><th scope=col>&lt;dbl&gt;</th></tr>\n",
       "</thead>\n",
       "<tbody>\n",
       "\t<tr><th scope=row>1</th><td>B</td><td>12.900</td><td>15.92</td><td>83.74</td><td>512.2</td><td>0.08677</td><td>0.09509</td><td>0.04894</td><td>0.03088</td><td>0.1778</td><td>⋯</td><td>14.48</td><td>21.82</td><td> 97.17</td><td>643.8</td><td>0.1312</td><td>0.2548</td><td>0.2090</td><td>0.10120</td><td>0.3549</td><td>0.08118</td></tr>\n",
       "\t<tr><th scope=row>2</th><td>B</td><td>13.340</td><td>15.86</td><td>86.49</td><td>520.0</td><td>0.10780</td><td>0.15350</td><td>0.11690</td><td>0.06987</td><td>0.1942</td><td>⋯</td><td>15.53</td><td>23.19</td><td> 96.66</td><td>614.9</td><td>0.1536</td><td>0.4791</td><td>0.4858</td><td>0.17080</td><td>0.3527</td><td>0.10160</td></tr>\n",
       "\t<tr><th scope=row>3</th><td>B</td><td> 9.667</td><td>18.49</td><td>61.49</td><td>289.1</td><td>0.08946</td><td>0.06258</td><td>0.02948</td><td>0.01514</td><td>0.2238</td><td>⋯</td><td>11.14</td><td>25.62</td><td> 70.88</td><td>385.2</td><td>0.1234</td><td>0.1542</td><td>0.1277</td><td>0.06560</td><td>0.3174</td><td>0.08524</td></tr>\n",
       "\t<tr><th scope=row>4</th><td>B</td><td>12.860</td><td>13.32</td><td>82.82</td><td>504.8</td><td>0.11340</td><td>0.08834</td><td>0.03800</td><td>0.03400</td><td>0.1543</td><td>⋯</td><td>14.04</td><td>21.08</td><td> 92.80</td><td>599.5</td><td>0.1547</td><td>0.2231</td><td>0.1791</td><td>0.11550</td><td>0.2382</td><td>0.08553</td></tr>\n",
       "\t<tr><th scope=row>5</th><td>B</td><td>13.560</td><td>13.90</td><td>88.59</td><td>561.3</td><td>0.10510</td><td>0.11920</td><td>0.07860</td><td>0.04451</td><td>0.1962</td><td>⋯</td><td>14.98</td><td>17.13</td><td>101.10</td><td>686.6</td><td>0.1376</td><td>0.2698</td><td>0.2577</td><td>0.09090</td><td>0.3065</td><td>0.08177</td></tr>\n",
       "\t<tr><th scope=row>6</th><td>B</td><td>11.930</td><td>21.53</td><td>76.53</td><td>438.6</td><td>0.09768</td><td>0.07849</td><td>0.03328</td><td>0.02008</td><td>0.1688</td><td>⋯</td><td>13.67</td><td>26.15</td><td> 87.54</td><td>583.0</td><td>0.1500</td><td>0.2399</td><td>0.1503</td><td>0.07247</td><td>0.2438</td><td>0.08541</td></tr>\n",
       "</tbody>\n",
       "</table>\n"
      ],
      "text/latex": [
       "A data.frame: 6 × 31\n",
       "\\begin{tabular}{r|lllllllllllllllllllll}\n",
       "  & diagnosis & radius\\_mean & texture\\_mean & perimeter\\_mean & area\\_mean & smoothness\\_mean & compactness\\_mean & concavity\\_mean & concave\\_points\\_mean & symmetry\\_mean & ⋯ & radius\\_worst & texture\\_worst & perimeter\\_worst & area\\_worst & smoothness\\_worst & compactness\\_worst & concavity\\_worst & concave\\_points\\_worst & symmetry\\_worst & fractal\\_dimension\\_worst\\\\\n",
       "  & <chr> & <dbl> & <dbl> & <dbl> & <dbl> & <dbl> & <dbl> & <dbl> & <dbl> & <dbl> & ⋯ & <dbl> & <dbl> & <dbl> & <dbl> & <dbl> & <dbl> & <dbl> & <dbl> & <dbl> & <dbl>\\\\\n",
       "\\hline\n",
       "\t1 & B & 12.900 & 15.92 & 83.74 & 512.2 & 0.08677 & 0.09509 & 0.04894 & 0.03088 & 0.1778 & ⋯ & 14.48 & 21.82 &  97.17 & 643.8 & 0.1312 & 0.2548 & 0.2090 & 0.10120 & 0.3549 & 0.08118\\\\\n",
       "\t2 & B & 13.340 & 15.86 & 86.49 & 520.0 & 0.10780 & 0.15350 & 0.11690 & 0.06987 & 0.1942 & ⋯ & 15.53 & 23.19 &  96.66 & 614.9 & 0.1536 & 0.4791 & 0.4858 & 0.17080 & 0.3527 & 0.10160\\\\\n",
       "\t3 & B &  9.667 & 18.49 & 61.49 & 289.1 & 0.08946 & 0.06258 & 0.02948 & 0.01514 & 0.2238 & ⋯ & 11.14 & 25.62 &  70.88 & 385.2 & 0.1234 & 0.1542 & 0.1277 & 0.06560 & 0.3174 & 0.08524\\\\\n",
       "\t4 & B & 12.860 & 13.32 & 82.82 & 504.8 & 0.11340 & 0.08834 & 0.03800 & 0.03400 & 0.1543 & ⋯ & 14.04 & 21.08 &  92.80 & 599.5 & 0.1547 & 0.2231 & 0.1791 & 0.11550 & 0.2382 & 0.08553\\\\\n",
       "\t5 & B & 13.560 & 13.90 & 88.59 & 561.3 & 0.10510 & 0.11920 & 0.07860 & 0.04451 & 0.1962 & ⋯ & 14.98 & 17.13 & 101.10 & 686.6 & 0.1376 & 0.2698 & 0.2577 & 0.09090 & 0.3065 & 0.08177\\\\\n",
       "\t6 & B & 11.930 & 21.53 & 76.53 & 438.6 & 0.09768 & 0.07849 & 0.03328 & 0.02008 & 0.1688 & ⋯ & 13.67 & 26.15 &  87.54 & 583.0 & 0.1500 & 0.2399 & 0.1503 & 0.07247 & 0.2438 & 0.08541\\\\\n",
       "\\end{tabular}\n"
      ],
      "text/markdown": [
       "\n",
       "A data.frame: 6 × 31\n",
       "\n",
       "| <!--/--> | diagnosis &lt;chr&gt; | radius_mean &lt;dbl&gt; | texture_mean &lt;dbl&gt; | perimeter_mean &lt;dbl&gt; | area_mean &lt;dbl&gt; | smoothness_mean &lt;dbl&gt; | compactness_mean &lt;dbl&gt; | concavity_mean &lt;dbl&gt; | concave_points_mean &lt;dbl&gt; | symmetry_mean &lt;dbl&gt; | ⋯ ⋯ | radius_worst &lt;dbl&gt; | texture_worst &lt;dbl&gt; | perimeter_worst &lt;dbl&gt; | area_worst &lt;dbl&gt; | smoothness_worst &lt;dbl&gt; | compactness_worst &lt;dbl&gt; | concavity_worst &lt;dbl&gt; | concave_points_worst &lt;dbl&gt; | symmetry_worst &lt;dbl&gt; | fractal_dimension_worst &lt;dbl&gt; |\n",
       "|---|---|---|---|---|---|---|---|---|---|---|---|---|---|---|---|---|---|---|---|---|---|\n",
       "| 1 | B | 12.900 | 15.92 | 83.74 | 512.2 | 0.08677 | 0.09509 | 0.04894 | 0.03088 | 0.1778 | ⋯ | 14.48 | 21.82 |  97.17 | 643.8 | 0.1312 | 0.2548 | 0.2090 | 0.10120 | 0.3549 | 0.08118 |\n",
       "| 2 | B | 13.340 | 15.86 | 86.49 | 520.0 | 0.10780 | 0.15350 | 0.11690 | 0.06987 | 0.1942 | ⋯ | 15.53 | 23.19 |  96.66 | 614.9 | 0.1536 | 0.4791 | 0.4858 | 0.17080 | 0.3527 | 0.10160 |\n",
       "| 3 | B |  9.667 | 18.49 | 61.49 | 289.1 | 0.08946 | 0.06258 | 0.02948 | 0.01514 | 0.2238 | ⋯ | 11.14 | 25.62 |  70.88 | 385.2 | 0.1234 | 0.1542 | 0.1277 | 0.06560 | 0.3174 | 0.08524 |\n",
       "| 4 | B | 12.860 | 13.32 | 82.82 | 504.8 | 0.11340 | 0.08834 | 0.03800 | 0.03400 | 0.1543 | ⋯ | 14.04 | 21.08 |  92.80 | 599.5 | 0.1547 | 0.2231 | 0.1791 | 0.11550 | 0.2382 | 0.08553 |\n",
       "| 5 | B | 13.560 | 13.90 | 88.59 | 561.3 | 0.10510 | 0.11920 | 0.07860 | 0.04451 | 0.1962 | ⋯ | 14.98 | 17.13 | 101.10 | 686.6 | 0.1376 | 0.2698 | 0.2577 | 0.09090 | 0.3065 | 0.08177 |\n",
       "| 6 | B | 11.930 | 21.53 | 76.53 | 438.6 | 0.09768 | 0.07849 | 0.03328 | 0.02008 | 0.1688 | ⋯ | 13.67 | 26.15 |  87.54 | 583.0 | 0.1500 | 0.2399 | 0.1503 | 0.07247 | 0.2438 | 0.08541 |\n",
       "\n"
      ],
      "text/plain": [
       "  diagnosis radius_mean texture_mean perimeter_mean area_mean smoothness_mean\n",
       "1 B         12.900      15.92        83.74          512.2     0.08677        \n",
       "2 B         13.340      15.86        86.49          520.0     0.10780        \n",
       "3 B          9.667      18.49        61.49          289.1     0.08946        \n",
       "4 B         12.860      13.32        82.82          504.8     0.11340        \n",
       "5 B         13.560      13.90        88.59          561.3     0.10510        \n",
       "6 B         11.930      21.53        76.53          438.6     0.09768        \n",
       "  compactness_mean concavity_mean concave_points_mean symmetry_mean <U+22EF>       \n",
       "1 0.09509          0.04894        0.03088             0.1778        <U+22EF>\n",
       "2 0.15350          0.11690        0.06987             0.1942        <U+22EF>\n",
       "3 0.06258          0.02948        0.01514             0.2238        <U+22EF>\n",
       "4 0.08834          0.03800        0.03400             0.1543        <U+22EF>\n",
       "5 0.11920          0.07860        0.04451             0.1962        <U+22EF>\n",
       "6 0.07849          0.03328        0.02008             0.1688        <U+22EF>\n",
       "  radius_worst texture_worst perimeter_worst area_worst smoothness_worst\n",
       "1 14.48        21.82          97.17          643.8      0.1312          \n",
       "2 15.53        23.19          96.66          614.9      0.1536          \n",
       "3 11.14        25.62          70.88          385.2      0.1234          \n",
       "4 14.04        21.08          92.80          599.5      0.1547          \n",
       "5 14.98        17.13         101.10          686.6      0.1376          \n",
       "6 13.67        26.15          87.54          583.0      0.1500          \n",
       "  compactness_worst concavity_worst concave_points_worst symmetry_worst\n",
       "1 0.2548            0.2090          0.10120              0.3549        \n",
       "2 0.4791            0.4858          0.17080              0.3527        \n",
       "3 0.1542            0.1277          0.06560              0.3174        \n",
       "4 0.2231            0.1791          0.11550              0.2382        \n",
       "5 0.2698            0.2577          0.09090              0.3065        \n",
       "6 0.2399            0.1503          0.07247              0.2438        \n",
       "  fractal_dimension_worst\n",
       "1 0.08118                \n",
       "2 0.10160                \n",
       "3 0.08524                \n",
       "4 0.08553                \n",
       "5 0.08177                \n",
       "6 0.08541                "
      ]
     },
     "metadata": {},
     "output_type": "display_data"
    }
   ],
   "source": [
    "bal_breast_cancer <- as.data.frame(bal_breast_cancer[3])\n",
    "colnames(bal_breast_cancer) <- c('diagnosis', 'radius_mean', \n",
    "         'texture_mean', 'perimeter_mean', 'area_mean', \n",
    "         'smoothness_mean', 'compactness_mean', \n",
    "         'concavity_mean','concave_points_mean', \n",
    "         'symmetry_mean', 'fractal_dimension_mean',\n",
    "         'radius_se', 'texture_se', 'perimeter_se', \n",
    "         'area_se', 'smoothness_se', 'compactness_se', \n",
    "         'concavity_se', 'concave_points_se', \n",
    "         'symmetry_se', 'fractal_dimension_se', \n",
    "         'radius_worst', 'texture_worst', \n",
    "         'perimeter_worst', 'area_worst', \n",
    "         'smoothness_worst', 'compactness_worst', \n",
    "         'concavity_worst', 'concave_points_worst', \n",
    "         'symmetry_worst', 'fractal_dimension_worst')\n",
    "head(bal_breast_cancer)"
   ]
  },
  {
   "cell_type": "code",
   "execution_count": 123,
   "metadata": {},
   "outputs": [
    {
     "data": {
      "text/plain": [
       "\n",
       "  B   M \n",
       "365 361 "
      ]
     },
     "metadata": {},
     "output_type": "display_data"
    }
   ],
   "source": [
    "table(bal_breast_cancer$diagnosis)"
   ]
  },
  {
   "cell_type": "markdown",
   "metadata": {},
   "source": [
    "# Feature Scaling"
   ]
  },
  {
   "cell_type": "code",
   "execution_count": 130,
   "metadata": {},
   "outputs": [],
   "source": [
    "X <- bal_breast_cancer[-1]\n",
    "X_scaled <- scale(X)\n",
    "X_scaled <- as.data.frame(X_scaled)\n",
    "bal_breast_cancer <-cbind(X_scaled, bal_breast_cancer[1])"
   ]
  },
  {
   "cell_type": "code",
   "execution_count": 133,
   "metadata": {},
   "outputs": [
    {
     "data": {
      "text/html": [
       "<table class=\"dataframe\">\n",
       "<caption>A data.frame: 6 × 31</caption>\n",
       "<thead>\n",
       "\t<tr><th></th><th scope=col>radius_mean</th><th scope=col>texture_mean</th><th scope=col>perimeter_mean</th><th scope=col>area_mean</th><th scope=col>smoothness_mean</th><th scope=col>compactness_mean</th><th scope=col>concavity_mean</th><th scope=col>concave_points_mean</th><th scope=col>symmetry_mean</th><th scope=col>fractal_dimension_mean</th><th scope=col>⋯</th><th scope=col>texture_worst</th><th scope=col>perimeter_worst</th><th scope=col>area_worst</th><th scope=col>smoothness_worst</th><th scope=col>compactness_worst</th><th scope=col>concavity_worst</th><th scope=col>concave_points_worst</th><th scope=col>symmetry_worst</th><th scope=col>fractal_dimension_worst</th><th scope=col>diagnosis</th></tr>\n",
       "\t<tr><th></th><th scope=col>&lt;dbl&gt;</th><th scope=col>&lt;dbl&gt;</th><th scope=col>&lt;dbl&gt;</th><th scope=col>&lt;dbl&gt;</th><th scope=col>&lt;dbl&gt;</th><th scope=col>&lt;dbl&gt;</th><th scope=col>&lt;dbl&gt;</th><th scope=col>&lt;dbl&gt;</th><th scope=col>&lt;dbl&gt;</th><th scope=col>&lt;dbl&gt;</th><th scope=col>⋯</th><th scope=col>&lt;dbl&gt;</th><th scope=col>&lt;dbl&gt;</th><th scope=col>&lt;dbl&gt;</th><th scope=col>&lt;dbl&gt;</th><th scope=col>&lt;dbl&gt;</th><th scope=col>&lt;dbl&gt;</th><th scope=col>&lt;dbl&gt;</th><th scope=col>&lt;dbl&gt;</th><th scope=col>&lt;dbl&gt;</th><th scope=col>&lt;chr&gt;</th></tr>\n",
       "</thead>\n",
       "<tbody>\n",
       "\t<tr><th scope=row>1</th><td>-0.5378120</td><td>-0.8967186</td><td>-0.5309025</td><td>-0.5712439</td><td>-0.79079901</td><td>-0.3190129</td><td>-0.6824329</td><td>-0.6588054</td><td>-0.1769006</td><td>-0.01554274</td><td>⋯</td><td>-0.74594959</td><td>-0.4935940</td><td>-0.5699072</td><td>-0.1275590</td><td>-0.11035341</td><td>-0.4682223</td><td>-0.4284391</td><td> 0.9915880</td><td>-0.18487136</td><td>B</td></tr>\n",
       "\t<tr><th scope=row>2</th><td>-0.4200507</td><td>-0.9110280</td><td>-0.4239382</td><td>-0.5509461</td><td> 0.79090054</td><td> 0.8169393</td><td> 0.1917154</td><td> 0.3094963</td><td> 0.4628494</td><td> 0.94226413</td><td>⋯</td><td>-0.51672837</td><td>-0.5074300</td><td>-0.6137173</td><td> 0.8852251</td><td> 1.37408592</td><td> 0.9451684</td><td> 0.6022350</td><td> 0.9555765</td><td> 0.96343746</td><td>B</td></tr>\n",
       "\t<tr><th scope=row>3</th><td>-1.4030892</td><td>-0.2837997</td><td>-1.3963410</td><td>-1.1518142</td><td>-0.58847986</td><td>-0.9512643</td><td>-0.9327408</td><td>-1.0497023</td><td> 1.6175201</td><td> 0.24006389</td><td>⋯</td><td>-0.11015349</td><td>-1.2068222</td><td>-0.9619240</td><td>-0.4802248</td><td>-0.77613404</td><td>-0.8833548</td><td>-0.9556229</td><td> 0.3777555</td><td> 0.04344078</td><td>B</td></tr>\n",
       "\t<tr><th scope=row>4</th><td>-0.5485175</td><td>-1.5167923</td><td>-0.5666869</td><td>-0.5905009</td><td> 1.21208539</td><td>-0.4502862</td><td>-0.8231507</td><td>-0.5813214</td><td>-1.0936155</td><td> 0.33053141</td><td>⋯</td><td>-0.86976252</td><td>-0.6121489</td><td>-0.6370624</td><td> 0.9349601</td><td>-0.32014711</td><td>-0.6208971</td><td>-0.2166770</td><td>-0.9186586</td><td> 0.05974879</td><td>B</td></tr>\n",
       "\t<tr><th scope=row>5</th><td>-0.3611701</td><td>-1.3784681</td><td>-0.3422563</td><td>-0.4434716</td><td> 0.58782927</td><td> 0.1498761</td><td>-0.3009255</td><td>-0.3203096</td><td> 0.5408677</td><td> 0.08210474</td><td>⋯</td><td>-1.53065583</td><td>-0.3869761</td><td>-0.5050259</td><td> 0.1618079</td><td>-0.01108194</td><td>-0.2195513</td><td>-0.5809670</td><td> 0.1993349</td><td>-0.15169299</td><td>B</td></tr>\n",
       "\t<tr><th scope=row>6</th><td>-0.7974219</td><td> 0.4412095</td><td>-0.8113435</td><td>-0.7627723</td><td> 0.02975934</td><td>-0.6418481</td><td>-0.8838626</td><td>-0.9270193</td><td>-0.5279829</td><td>-0.07441842</td><td>⋯</td><td>-0.02147667</td><td>-0.7548488</td><td>-0.6620751</td><td> 0.7224563</td><td>-0.20896306</td><td>-0.7679551</td><td>-0.8538883</td><td>-0.8269930</td><td> 0.05300064</td><td>B</td></tr>\n",
       "</tbody>\n",
       "</table>\n"
      ],
      "text/latex": [
       "A data.frame: 6 × 31\n",
       "\\begin{tabular}{r|lllllllllllllllllllll}\n",
       "  & radius\\_mean & texture\\_mean & perimeter\\_mean & area\\_mean & smoothness\\_mean & compactness\\_mean & concavity\\_mean & concave\\_points\\_mean & symmetry\\_mean & fractal\\_dimension\\_mean & ⋯ & texture\\_worst & perimeter\\_worst & area\\_worst & smoothness\\_worst & compactness\\_worst & concavity\\_worst & concave\\_points\\_worst & symmetry\\_worst & fractal\\_dimension\\_worst & diagnosis\\\\\n",
       "  & <dbl> & <dbl> & <dbl> & <dbl> & <dbl> & <dbl> & <dbl> & <dbl> & <dbl> & <dbl> & ⋯ & <dbl> & <dbl> & <dbl> & <dbl> & <dbl> & <dbl> & <dbl> & <dbl> & <dbl> & <chr>\\\\\n",
       "\\hline\n",
       "\t1 & -0.5378120 & -0.8967186 & -0.5309025 & -0.5712439 & -0.79079901 & -0.3190129 & -0.6824329 & -0.6588054 & -0.1769006 & -0.01554274 & ⋯ & -0.74594959 & -0.4935940 & -0.5699072 & -0.1275590 & -0.11035341 & -0.4682223 & -0.4284391 &  0.9915880 & -0.18487136 & B\\\\\n",
       "\t2 & -0.4200507 & -0.9110280 & -0.4239382 & -0.5509461 &  0.79090054 &  0.8169393 &  0.1917154 &  0.3094963 &  0.4628494 &  0.94226413 & ⋯ & -0.51672837 & -0.5074300 & -0.6137173 &  0.8852251 &  1.37408592 &  0.9451684 &  0.6022350 &  0.9555765 &  0.96343746 & B\\\\\n",
       "\t3 & -1.4030892 & -0.2837997 & -1.3963410 & -1.1518142 & -0.58847986 & -0.9512643 & -0.9327408 & -1.0497023 &  1.6175201 &  0.24006389 & ⋯ & -0.11015349 & -1.2068222 & -0.9619240 & -0.4802248 & -0.77613404 & -0.8833548 & -0.9556229 &  0.3777555 &  0.04344078 & B\\\\\n",
       "\t4 & -0.5485175 & -1.5167923 & -0.5666869 & -0.5905009 &  1.21208539 & -0.4502862 & -0.8231507 & -0.5813214 & -1.0936155 &  0.33053141 & ⋯ & -0.86976252 & -0.6121489 & -0.6370624 &  0.9349601 & -0.32014711 & -0.6208971 & -0.2166770 & -0.9186586 &  0.05974879 & B\\\\\n",
       "\t5 & -0.3611701 & -1.3784681 & -0.3422563 & -0.4434716 &  0.58782927 &  0.1498761 & -0.3009255 & -0.3203096 &  0.5408677 &  0.08210474 & ⋯ & -1.53065583 & -0.3869761 & -0.5050259 &  0.1618079 & -0.01108194 & -0.2195513 & -0.5809670 &  0.1993349 & -0.15169299 & B\\\\\n",
       "\t6 & -0.7974219 &  0.4412095 & -0.8113435 & -0.7627723 &  0.02975934 & -0.6418481 & -0.8838626 & -0.9270193 & -0.5279829 & -0.07441842 & ⋯ & -0.02147667 & -0.7548488 & -0.6620751 &  0.7224563 & -0.20896306 & -0.7679551 & -0.8538883 & -0.8269930 &  0.05300064 & B\\\\\n",
       "\\end{tabular}\n"
      ],
      "text/markdown": [
       "\n",
       "A data.frame: 6 × 31\n",
       "\n",
       "| <!--/--> | radius_mean &lt;dbl&gt; | texture_mean &lt;dbl&gt; | perimeter_mean &lt;dbl&gt; | area_mean &lt;dbl&gt; | smoothness_mean &lt;dbl&gt; | compactness_mean &lt;dbl&gt; | concavity_mean &lt;dbl&gt; | concave_points_mean &lt;dbl&gt; | symmetry_mean &lt;dbl&gt; | fractal_dimension_mean &lt;dbl&gt; | ⋯ ⋯ | texture_worst &lt;dbl&gt; | perimeter_worst &lt;dbl&gt; | area_worst &lt;dbl&gt; | smoothness_worst &lt;dbl&gt; | compactness_worst &lt;dbl&gt; | concavity_worst &lt;dbl&gt; | concave_points_worst &lt;dbl&gt; | symmetry_worst &lt;dbl&gt; | fractal_dimension_worst &lt;dbl&gt; | diagnosis &lt;chr&gt; |\n",
       "|---|---|---|---|---|---|---|---|---|---|---|---|---|---|---|---|---|---|---|---|---|---|\n",
       "| 1 | -0.5378120 | -0.8967186 | -0.5309025 | -0.5712439 | -0.79079901 | -0.3190129 | -0.6824329 | -0.6588054 | -0.1769006 | -0.01554274 | ⋯ | -0.74594959 | -0.4935940 | -0.5699072 | -0.1275590 | -0.11035341 | -0.4682223 | -0.4284391 |  0.9915880 | -0.18487136 | B |\n",
       "| 2 | -0.4200507 | -0.9110280 | -0.4239382 | -0.5509461 |  0.79090054 |  0.8169393 |  0.1917154 |  0.3094963 |  0.4628494 |  0.94226413 | ⋯ | -0.51672837 | -0.5074300 | -0.6137173 |  0.8852251 |  1.37408592 |  0.9451684 |  0.6022350 |  0.9555765 |  0.96343746 | B |\n",
       "| 3 | -1.4030892 | -0.2837997 | -1.3963410 | -1.1518142 | -0.58847986 | -0.9512643 | -0.9327408 | -1.0497023 |  1.6175201 |  0.24006389 | ⋯ | -0.11015349 | -1.2068222 | -0.9619240 | -0.4802248 | -0.77613404 | -0.8833548 | -0.9556229 |  0.3777555 |  0.04344078 | B |\n",
       "| 4 | -0.5485175 | -1.5167923 | -0.5666869 | -0.5905009 |  1.21208539 | -0.4502862 | -0.8231507 | -0.5813214 | -1.0936155 |  0.33053141 | ⋯ | -0.86976252 | -0.6121489 | -0.6370624 |  0.9349601 | -0.32014711 | -0.6208971 | -0.2166770 | -0.9186586 |  0.05974879 | B |\n",
       "| 5 | -0.3611701 | -1.3784681 | -0.3422563 | -0.4434716 |  0.58782927 |  0.1498761 | -0.3009255 | -0.3203096 |  0.5408677 |  0.08210474 | ⋯ | -1.53065583 | -0.3869761 | -0.5050259 |  0.1618079 | -0.01108194 | -0.2195513 | -0.5809670 |  0.1993349 | -0.15169299 | B |\n",
       "| 6 | -0.7974219 |  0.4412095 | -0.8113435 | -0.7627723 |  0.02975934 | -0.6418481 | -0.8838626 | -0.9270193 | -0.5279829 | -0.07441842 | ⋯ | -0.02147667 | -0.7548488 | -0.6620751 |  0.7224563 | -0.20896306 | -0.7679551 | -0.8538883 | -0.8269930 |  0.05300064 | B |\n",
       "\n"
      ],
      "text/plain": [
       "  radius_mean texture_mean perimeter_mean area_mean  smoothness_mean\n",
       "1 -0.5378120  -0.8967186   -0.5309025     -0.5712439 -0.79079901    \n",
       "2 -0.4200507  -0.9110280   -0.4239382     -0.5509461  0.79090054    \n",
       "3 -1.4030892  -0.2837997   -1.3963410     -1.1518142 -0.58847986    \n",
       "4 -0.5485175  -1.5167923   -0.5666869     -0.5905009  1.21208539    \n",
       "5 -0.3611701  -1.3784681   -0.3422563     -0.4434716  0.58782927    \n",
       "6 -0.7974219   0.4412095   -0.8113435     -0.7627723  0.02975934    \n",
       "  compactness_mean concavity_mean concave_points_mean symmetry_mean\n",
       "1 -0.3190129       -0.6824329     -0.6588054          -0.1769006   \n",
       "2  0.8169393        0.1917154      0.3094963           0.4628494   \n",
       "3 -0.9512643       -0.9327408     -1.0497023           1.6175201   \n",
       "4 -0.4502862       -0.8231507     -0.5813214          -1.0936155   \n",
       "5  0.1498761       -0.3009255     -0.3203096           0.5408677   \n",
       "6 -0.6418481       -0.8838626     -0.9270193          -0.5279829   \n",
       "  fractal_dimension_mean <U+22EF>        texture_worst perimeter_worst area_worst\n",
       "1 -0.01554274            <U+22EF> -0.74594959   -0.4935940      -0.5699072\n",
       "2  0.94226413            <U+22EF> -0.51672837   -0.5074300      -0.6137173\n",
       "3  0.24006389            <U+22EF> -0.11015349   -1.2068222      -0.9619240\n",
       "4  0.33053141            <U+22EF> -0.86976252   -0.6121489      -0.6370624\n",
       "5  0.08210474            <U+22EF> -1.53065583   -0.3869761      -0.5050259\n",
       "6 -0.07441842            <U+22EF> -0.02147667   -0.7548488      -0.6620751\n",
       "  smoothness_worst compactness_worst concavity_worst concave_points_worst\n",
       "1 -0.1275590       -0.11035341       -0.4682223      -0.4284391          \n",
       "2  0.8852251        1.37408592        0.9451684       0.6022350          \n",
       "3 -0.4802248       -0.77613404       -0.8833548      -0.9556229          \n",
       "4  0.9349601       -0.32014711       -0.6208971      -0.2166770          \n",
       "5  0.1618079       -0.01108194       -0.2195513      -0.5809670          \n",
       "6  0.7224563       -0.20896306       -0.7679551      -0.8538883          \n",
       "  symmetry_worst fractal_dimension_worst diagnosis\n",
       "1  0.9915880     -0.18487136             B        \n",
       "2  0.9555765      0.96343746             B        \n",
       "3  0.3777555      0.04344078             B        \n",
       "4 -0.9186586      0.05974879             B        \n",
       "5  0.1993349     -0.15169299             B        \n",
       "6 -0.8269930      0.05300064             B        "
      ]
     },
     "metadata": {},
     "output_type": "display_data"
    }
   ],
   "source": [
    "head(bal_breast_cancer)"
   ]
  },
  {
   "cell_type": "markdown",
   "metadata": {},
   "source": [
    "## Split Data"
   ]
  },
  {
   "cell_type": "code",
   "execution_count": 131,
   "metadata": {},
   "outputs": [],
   "source": [
    "set.seed(1)\n",
    "n = nrow(bal_breast_cancer) # 568\n",
    "z = sample(n, 0.8*n) # 0.8 for train/ 0.2 for test"
   ]
  },
  {
   "cell_type": "markdown",
   "metadata": {},
   "source": [
    "## Use step-forward variables selection\n",
    "- When we do stepwise method, it has warning message. The reason might because we doesn't have balance data ot outliers.\n",
    "- We can use SMOTE(oversampling/ undersampling) to fix unbalance.\n",
    "- We also could consider to remove outliers."
   ]
  },
  {
   "cell_type": "code",
   "execution_count": 140,
   "metadata": {},
   "outputs": [
    {
     "name": "stderr",
     "output_type": "stream",
     "text": [
      "Warning message:\n",
      "\"glm.fit: fitted probabilities numerically 0 or 1 occurred\"\n"
     ]
    },
    {
     "name": "stdout",
     "output_type": "stream",
     "text": [
      "Start:  AIC=1008.43\n",
      "as.factor(diagnosis) ~ 1\n",
      "\n"
     ]
    },
    {
     "name": "stderr",
     "output_type": "stream",
     "text": [
      "Warning message:\n",
      "\"glm.fit: fitted probabilities numerically 0 or 1 occurred\"\n",
      "Warning message:\n",
      "\"glm.fit: fitted probabilities numerically 0 or 1 occurred\"\n"
     ]
    },
    {
     "name": "stdout",
     "output_type": "stream",
     "text": [
      "                          Df Deviance     AIC\n",
      "+ perimeter_worst          1   245.04  249.04\n",
      "+ radius_worst             1   260.96  264.96\n",
      "+ area_worst               1   263.12  267.12\n",
      "+ concave_points_worst     1   299.89  303.89\n",
      "+ concave_points_mean      1   349.48  353.48\n",
      "+ perimeter_mean           1   382.90  386.90\n",
      "+ area_mean                1   408.97  412.97\n",
      "+ radius_mean              1   415.76  419.76\n",
      "+ concavity_mean           1   470.68  474.68\n",
      "+ area_se                  1   488.02  492.02\n",
      "+ concavity_worst          1   509.80  513.80\n",
      "+ perimeter_se             1   622.39  626.39\n",
      "+ radius_se                1   643.57  647.57\n",
      "+ compactness_worst        1   654.37  658.37\n",
      "+ compactness_mean         1   690.95  694.95\n",
      "+ texture_worst            1   808.23  812.23\n",
      "+ texture_mean             1   844.34  848.34\n",
      "+ smoothness_worst         1   848.48  852.48\n",
      "+ symmetry_worst           1   859.03  863.03\n",
      "+ concave_points_se        1   874.03  878.03\n",
      "+ smoothness_mean          1   910.99  914.99\n",
      "+ symmetry_mean            1   924.35  928.35\n",
      "+ fractal_dimension_worst  1   927.30  931.30\n",
      "+ concavity_se             1   948.35  952.35\n",
      "+ compactness_se           1   965.68  969.68\n",
      "+ smoothness_se            1   997.71 1001.71\n",
      "+ symmetry_se              1  1000.95 1004.95\n",
      "+ fractal_dimension_mean   1  1002.96 1006.96\n",
      "+ texture_se               1  1003.76 1007.76\n",
      "<none>                        1006.43 1008.43\n",
      "+ fractal_dimension_se     1  1006.01 1010.01\n",
      "\n",
      "Step:  AIC=249.04\n",
      "as.factor(diagnosis) ~ perimeter_worst\n",
      "\n"
     ]
    },
    {
     "name": "stderr",
     "output_type": "stream",
     "text": [
      "Warning message:\n",
      "\"glm.fit: fitted probabilities numerically 0 or 1 occurred\"\n",
      "Warning message:\n",
      "\"glm.fit: fitted probabilities numerically 0 or 1 occurred\"\n",
      "Warning message:\n",
      "\"glm.fit: fitted probabilities numerically 0 or 1 occurred\"\n",
      "Warning message:\n",
      "\"glm.fit: fitted probabilities numerically 0 or 1 occurred\"\n",
      "Warning message:\n",
      "\"glm.fit: fitted probabilities numerically 0 or 1 occurred\"\n",
      "Warning message:\n",
      "\"glm.fit: fitted probabilities numerically 0 or 1 occurred\"\n",
      "Warning message:\n",
      "\"glm.fit: fitted probabilities numerically 0 or 1 occurred\"\n",
      "Warning message:\n",
      "\"glm.fit: fitted probabilities numerically 0 or 1 occurred\"\n",
      "Warning message:\n",
      "\"glm.fit: fitted probabilities numerically 0 or 1 occurred\"\n",
      "Warning message:\n",
      "\"glm.fit: fitted probabilities numerically 0 or 1 occurred\"\n",
      "Warning message:\n",
      "\"glm.fit: fitted probabilities numerically 0 or 1 occurred\"\n",
      "Warning message:\n",
      "\"glm.fit: fitted probabilities numerically 0 or 1 occurred\"\n",
      "Warning message:\n",
      "\"glm.fit: fitted probabilities numerically 0 or 1 occurred\"\n",
      "Warning message:\n",
      "\"glm.fit: fitted probabilities numerically 0 or 1 occurred\"\n",
      "Warning message:\n",
      "\"glm.fit: fitted probabilities numerically 0 or 1 occurred\"\n",
      "Warning message:\n",
      "\"glm.fit: fitted probabilities numerically 0 or 1 occurred\"\n",
      "Warning message:\n",
      "\"glm.fit: fitted probabilities numerically 0 or 1 occurred\"\n",
      "Warning message:\n",
      "\"glm.fit: fitted probabilities numerically 0 or 1 occurred\"\n",
      "Warning message:\n",
      "\"glm.fit: fitted probabilities numerically 0 or 1 occurred\"\n",
      "Warning message:\n",
      "\"glm.fit: fitted probabilities numerically 0 or 1 occurred\"\n",
      "Warning message:\n",
      "\"glm.fit: fitted probabilities numerically 0 or 1 occurred\"\n",
      "Warning message:\n",
      "\"glm.fit: fitted probabilities numerically 0 or 1 occurred\"\n"
     ]
    },
    {
     "name": "stdout",
     "output_type": "stream",
     "text": [
      "                          Df Deviance     AIC\n",
      "+ smoothness_worst         1   167.75  173.75\n",
      "+ concave_points_worst     1   168.43  174.43\n",
      "+ radius_mean              1   179.93  185.93\n",
      "+ concavity_worst          1   184.40  190.40\n",
      "+ texture_worst            1   186.24  192.24\n",
      "+ fractal_dimension_worst  1   187.19  193.19\n",
      "+ symmetry_worst           1   189.74  195.74\n",
      "+ area_mean                1   193.26  199.26\n",
      "+ compactness_worst        1   195.44  201.44\n",
      "+ concavity_mean           1   196.34  202.34\n",
      "+ perimeter_mean           1   196.35  202.35\n",
      "+ smoothness_mean          1   196.36  202.36\n",
      "+ concave_points_mean      1   198.27  204.27\n",
      "+ fractal_dimension_mean   1   203.79  209.79\n",
      "+ symmetry_mean            1   206.93  212.93\n",
      "+ texture_mean             1   212.43  218.43\n",
      "+ compactness_mean         1   214.66  220.66\n",
      "+ smoothness_se            1   227.77  233.77\n",
      "+ texture_se               1   233.95  239.95\n",
      "+ symmetry_se              1   237.04  243.04\n",
      "+ radius_se                1   237.35  243.35\n",
      "+ concave_points_se        1   238.85  244.85\n",
      "+ area_se                  1   239.33  245.33\n",
      "+ perimeter_se             1   239.59  245.59\n",
      "+ concavity_se             1   240.20  246.20\n",
      "+ compactness_se           1   240.28  246.28\n",
      "+ fractal_dimension_se     1   242.57  248.57\n",
      "<none>                         245.04  249.04\n",
      "+ area_worst               1   244.83  250.83\n",
      "+ radius_worst             1   245.02  251.02\n",
      "- perimeter_worst          1  1006.43 1008.43\n"
     ]
    },
    {
     "name": "stderr",
     "output_type": "stream",
     "text": [
      "Warning message:\n",
      "\"glm.fit: fitted probabilities numerically 0 or 1 occurred\"\n"
     ]
    },
    {
     "name": "stdout",
     "output_type": "stream",
     "text": [
      "\n",
      "Step:  AIC=173.75\n",
      "as.factor(diagnosis) ~ perimeter_worst + smoothness_worst\n",
      "\n"
     ]
    },
    {
     "name": "stderr",
     "output_type": "stream",
     "text": [
      "Warning message:\n",
      "\"glm.fit: fitted probabilities numerically 0 or 1 occurred\"\n",
      "Warning message:\n",
      "\"glm.fit: fitted probabilities numerically 0 or 1 occurred\"\n",
      "Warning message:\n",
      "\"glm.fit: fitted probabilities numerically 0 or 1 occurred\"\n",
      "Warning message:\n",
      "\"glm.fit: fitted probabilities numerically 0 or 1 occurred\"\n",
      "Warning message:\n",
      "\"glm.fit: fitted probabilities numerically 0 or 1 occurred\"\n",
      "Warning message:\n",
      "\"glm.fit: fitted probabilities numerically 0 or 1 occurred\"\n",
      "Warning message:\n",
      "\"glm.fit: fitted probabilities numerically 0 or 1 occurred\"\n",
      "Warning message:\n",
      "\"glm.fit: fitted probabilities numerically 0 or 1 occurred\"\n",
      "Warning message:\n",
      "\"glm.fit: fitted probabilities numerically 0 or 1 occurred\"\n",
      "Warning message:\n",
      "\"glm.fit: fitted probabilities numerically 0 or 1 occurred\"\n",
      "Warning message:\n",
      "\"glm.fit: fitted probabilities numerically 0 or 1 occurred\"\n",
      "Warning message:\n",
      "\"glm.fit: fitted probabilities numerically 0 or 1 occurred\"\n",
      "Warning message:\n",
      "\"glm.fit: fitted probabilities numerically 0 or 1 occurred\"\n",
      "Warning message:\n",
      "\"glm.fit: fitted probabilities numerically 0 or 1 occurred\"\n",
      "Warning message:\n",
      "\"glm.fit: fitted probabilities numerically 0 or 1 occurred\"\n",
      "Warning message:\n",
      "\"glm.fit: fitted probabilities numerically 0 or 1 occurred\"\n",
      "Warning message:\n",
      "\"glm.fit: fitted probabilities numerically 0 or 1 occurred\"\n",
      "Warning message:\n",
      "\"glm.fit: fitted probabilities numerically 0 or 1 occurred\"\n",
      "Warning message:\n",
      "\"glm.fit: fitted probabilities numerically 0 or 1 occurred\"\n",
      "Warning message:\n",
      "\"glm.fit: fitted probabilities numerically 0 or 1 occurred\"\n",
      "Warning message:\n",
      "\"glm.fit: fitted probabilities numerically 0 or 1 occurred\"\n",
      "Warning message:\n",
      "\"glm.fit: fitted probabilities numerically 0 or 1 occurred\"\n",
      "Warning message:\n",
      "\"glm.fit: fitted probabilities numerically 0 or 1 occurred\"\n",
      "Warning message:\n",
      "\"glm.fit: fitted probabilities numerically 0 or 1 occurred\"\n",
      "Warning message:\n",
      "\"glm.fit: fitted probabilities numerically 0 or 1 occurred\"\n",
      "Warning message:\n",
      "\"glm.fit: fitted probabilities numerically 0 or 1 occurred\"\n",
      "Warning message:\n",
      "\"glm.fit: fitted probabilities numerically 0 or 1 occurred\"\n",
      "Warning message:\n",
      "\"glm.fit: fitted probabilities numerically 0 or 1 occurred\"\n"
     ]
    },
    {
     "name": "stdout",
     "output_type": "stream",
     "text": [
      "                          Df Deviance    AIC\n",
      "+ texture_worst            1   128.11 136.11\n",
      "+ texture_mean             1   138.74 146.74\n",
      "+ area_se                  1   153.80 161.80\n",
      "+ radius_mean              1   154.30 162.30\n",
      "+ area_worst               1   154.77 162.77\n",
      "+ perimeter_mean           1   155.39 163.39\n",
      "+ radius_se                1   155.67 163.67\n",
      "+ texture_se               1   156.17 164.17\n",
      "+ concave_points_worst     1   157.61 165.61\n",
      "+ symmetry_worst           1   157.62 165.62\n",
      "+ concavity_worst          1   158.50 166.50\n",
      "+ concavity_mean           1   159.54 167.54\n",
      "+ area_mean                1   159.86 167.86\n",
      "+ perimeter_se             1   160.40 168.40\n",
      "+ radius_worst             1   160.44 168.44\n",
      "+ symmetry_mean            1   163.14 171.14\n",
      "+ symmetry_se              1   163.19 171.19\n",
      "+ concave_points_mean      1   164.93 172.93\n",
      "<none>                         167.75 173.75\n",
      "+ fractal_dimension_worst  1   165.94 173.94\n",
      "+ concavity_se             1   166.03 174.03\n",
      "+ compactness_worst        1   166.77 174.77\n",
      "+ concave_points_se        1   166.97 174.97\n",
      "+ smoothness_mean          1   167.37 175.37\n",
      "+ compactness_mean         1   167.59 175.59\n",
      "+ smoothness_se            1   167.67 175.67\n",
      "+ fractal_dimension_mean   1   167.69 175.69\n",
      "+ fractal_dimension_se     1   167.71 175.71\n",
      "+ compactness_se           1   167.73 175.73\n",
      "- smoothness_worst         1   245.04 249.04\n",
      "- perimeter_worst          1   848.48 852.48\n"
     ]
    },
    {
     "name": "stderr",
     "output_type": "stream",
     "text": [
      "Warning message:\n",
      "\"glm.fit: fitted probabilities numerically 0 or 1 occurred\"\n"
     ]
    },
    {
     "name": "stdout",
     "output_type": "stream",
     "text": [
      "\n",
      "Step:  AIC=136.11\n",
      "as.factor(diagnosis) ~ perimeter_worst + smoothness_worst + texture_worst\n",
      "\n"
     ]
    },
    {
     "name": "stderr",
     "output_type": "stream",
     "text": [
      "Warning message:\n",
      "\"glm.fit: fitted probabilities numerically 0 or 1 occurred\"\n",
      "Warning message:\n",
      "\"glm.fit: fitted probabilities numerically 0 or 1 occurred\"\n",
      "Warning message:\n",
      "\"glm.fit: fitted probabilities numerically 0 or 1 occurred\"\n",
      "Warning message:\n",
      "\"glm.fit: fitted probabilities numerically 0 or 1 occurred\"\n",
      "Warning message:\n",
      "\"glm.fit: fitted probabilities numerically 0 or 1 occurred\"\n",
      "Warning message:\n",
      "\"glm.fit: fitted probabilities numerically 0 or 1 occurred\"\n",
      "Warning message:\n",
      "\"glm.fit: fitted probabilities numerically 0 or 1 occurred\"\n",
      "Warning message:\n",
      "\"glm.fit: fitted probabilities numerically 0 or 1 occurred\"\n",
      "Warning message:\n",
      "\"glm.fit: fitted probabilities numerically 0 or 1 occurred\"\n",
      "Warning message:\n",
      "\"glm.fit: fitted probabilities numerically 0 or 1 occurred\"\n",
      "Warning message:\n",
      "\"glm.fit: fitted probabilities numerically 0 or 1 occurred\"\n",
      "Warning message:\n",
      "\"glm.fit: fitted probabilities numerically 0 or 1 occurred\"\n",
      "Warning message:\n",
      "\"glm.fit: fitted probabilities numerically 0 or 1 occurred\"\n",
      "Warning message:\n",
      "\"glm.fit: fitted probabilities numerically 0 or 1 occurred\"\n",
      "Warning message:\n",
      "\"glm.fit: fitted probabilities numerically 0 or 1 occurred\"\n",
      "Warning message:\n",
      "\"glm.fit: fitted probabilities numerically 0 or 1 occurred\"\n",
      "Warning message:\n",
      "\"glm.fit: fitted probabilities numerically 0 or 1 occurred\"\n",
      "Warning message:\n",
      "\"glm.fit: fitted probabilities numerically 0 or 1 occurred\"\n",
      "Warning message:\n",
      "\"glm.fit: fitted probabilities numerically 0 or 1 occurred\"\n",
      "Warning message:\n",
      "\"glm.fit: fitted probabilities numerically 0 or 1 occurred\"\n",
      "Warning message:\n",
      "\"glm.fit: fitted probabilities numerically 0 or 1 occurred\"\n",
      "Warning message:\n",
      "\"glm.fit: fitted probabilities numerically 0 or 1 occurred\"\n",
      "Warning message:\n",
      "\"glm.fit: fitted probabilities numerically 0 or 1 occurred\"\n",
      "Warning message:\n",
      "\"glm.fit: fitted probabilities numerically 0 or 1 occurred\"\n",
      "Warning message:\n",
      "\"glm.fit: fitted probabilities numerically 0 or 1 occurred\"\n",
      "Warning message:\n",
      "\"glm.fit: fitted probabilities numerically 0 or 1 occurred\"\n",
      "Warning message:\n",
      "\"glm.fit: fitted probabilities numerically 0 or 1 occurred\"\n",
      "Warning message:\n",
      "\"glm.fit: fitted probabilities numerically 0 or 1 occurred\"\n",
      "Warning message:\n",
      "\"glm.fit: fitted probabilities numerically 0 or 1 occurred\"\n",
      "Warning message:\n",
      "\"glm.fit: fitted probabilities numerically 0 or 1 occurred\"\n"
     ]
    },
    {
     "name": "stdout",
     "output_type": "stream",
     "text": [
      "                          Df Deviance    AIC\n",
      "+ concave_points_worst     1   115.54 125.54\n",
      "+ symmetry_worst           1   115.99 125.99\n",
      "+ radius_mean              1   118.65 128.65\n",
      "+ area_se                  1   118.78 128.78\n",
      "+ radius_se                1   119.14 129.14\n",
      "+ symmetry_mean            1   119.36 129.36\n",
      "+ perimeter_mean           1   119.57 129.57\n",
      "+ area_mean                1   121.63 131.63\n",
      "+ concave_points_mean      1   121.85 131.85\n",
      "+ area_worst               1   122.00 132.00\n",
      "+ symmetry_se              1   122.16 132.16\n",
      "+ concavity_worst          1   122.36 132.36\n",
      "+ concavity_mean           1   122.39 132.39\n",
      "+ radius_worst             1   123.42 133.42\n",
      "+ perimeter_se             1   123.57 133.57\n",
      "<none>                         128.11 136.11\n",
      "+ texture_se               1   126.62 136.62\n",
      "+ texture_mean             1   126.70 136.70\n",
      "+ fractal_dimension_worst  1   126.83 136.83\n",
      "+ smoothness_mean          1   127.04 137.04\n",
      "+ concave_points_se        1   127.10 137.10\n",
      "+ compactness_worst        1   127.17 137.17\n",
      "+ fractal_dimension_se     1   127.21 137.21\n",
      "+ fractal_dimension_mean   1   127.29 137.29\n",
      "+ concavity_se             1   127.38 137.38\n",
      "+ compactness_se           1   127.53 137.53\n",
      "+ smoothness_se            1   127.83 137.83\n",
      "+ compactness_mean         1   127.91 137.91\n",
      "- texture_worst            1   167.75 173.75\n",
      "- smoothness_worst         1   186.24 192.24\n",
      "- perimeter_worst          1   705.59 711.59\n"
     ]
    },
    {
     "name": "stderr",
     "output_type": "stream",
     "text": [
      "Warning message:\n",
      "\"glm.fit: fitted probabilities numerically 0 or 1 occurred\"\n"
     ]
    },
    {
     "name": "stdout",
     "output_type": "stream",
     "text": [
      "\n",
      "Step:  AIC=125.54\n",
      "as.factor(diagnosis) ~ perimeter_worst + smoothness_worst + texture_worst + \n",
      "    concave_points_worst\n",
      "\n"
     ]
    },
    {
     "name": "stderr",
     "output_type": "stream",
     "text": [
      "Warning message:\n",
      "\"glm.fit: fitted probabilities numerically 0 or 1 occurred\"\n",
      "Warning message:\n",
      "\"glm.fit: fitted probabilities numerically 0 or 1 occurred\"\n",
      "Warning message:\n",
      "\"glm.fit: fitted probabilities numerically 0 or 1 occurred\"\n",
      "Warning message:\n",
      "\"glm.fit: fitted probabilities numerically 0 or 1 occurred\"\n",
      "Warning message:\n",
      "\"glm.fit: fitted probabilities numerically 0 or 1 occurred\"\n",
      "Warning message:\n",
      "\"glm.fit: fitted probabilities numerically 0 or 1 occurred\"\n",
      "Warning message:\n",
      "\"glm.fit: fitted probabilities numerically 0 or 1 occurred\"\n",
      "Warning message:\n",
      "\"glm.fit: fitted probabilities numerically 0 or 1 occurred\"\n",
      "Warning message:\n",
      "\"glm.fit: fitted probabilities numerically 0 or 1 occurred\"\n",
      "Warning message:\n",
      "\"glm.fit: fitted probabilities numerically 0 or 1 occurred\"\n",
      "Warning message:\n",
      "\"glm.fit: fitted probabilities numerically 0 or 1 occurred\"\n",
      "Warning message:\n",
      "\"glm.fit: fitted probabilities numerically 0 or 1 occurred\"\n",
      "Warning message:\n",
      "\"glm.fit: fitted probabilities numerically 0 or 1 occurred\"\n",
      "Warning message:\n",
      "\"glm.fit: fitted probabilities numerically 0 or 1 occurred\"\n",
      "Warning message:\n",
      "\"glm.fit: fitted probabilities numerically 0 or 1 occurred\"\n",
      "Warning message:\n",
      "\"glm.fit: fitted probabilities numerically 0 or 1 occurred\"\n",
      "Warning message:\n",
      "\"glm.fit: fitted probabilities numerically 0 or 1 occurred\"\n",
      "Warning message:\n",
      "\"glm.fit: fitted probabilities numerically 0 or 1 occurred\"\n",
      "Warning message:\n",
      "\"glm.fit: fitted probabilities numerically 0 or 1 occurred\"\n",
      "Warning message:\n",
      "\"glm.fit: fitted probabilities numerically 0 or 1 occurred\"\n",
      "Warning message:\n",
      "\"glm.fit: fitted probabilities numerically 0 or 1 occurred\"\n",
      "Warning message:\n",
      "\"glm.fit: fitted probabilities numerically 0 or 1 occurred\"\n",
      "Warning message:\n",
      "\"glm.fit: fitted probabilities numerically 0 or 1 occurred\"\n",
      "Warning message:\n",
      "\"glm.fit: fitted probabilities numerically 0 or 1 occurred\"\n",
      "Warning message:\n",
      "\"glm.fit: fitted probabilities numerically 0 or 1 occurred\"\n",
      "Warning message:\n",
      "\"glm.fit: fitted probabilities numerically 0 or 1 occurred\"\n",
      "Warning message:\n",
      "\"glm.fit: fitted probabilities numerically 0 or 1 occurred\"\n",
      "Warning message:\n",
      "\"glm.fit: fitted probabilities numerically 0 or 1 occurred\"\n",
      "Warning message:\n",
      "\"glm.fit: fitted probabilities numerically 0 or 1 occurred\"\n",
      "Warning message:\n",
      "\"glm.fit: fitted probabilities numerically 0 or 1 occurred\"\n"
     ]
    },
    {
     "name": "stdout",
     "output_type": "stream",
     "text": [
      "                          Df Deviance    AIC\n",
      "+ area_worst               1   91.403 103.40\n",
      "+ radius_worst             1   98.888 110.89\n",
      "+ area_se                  1  101.659 113.66\n",
      "+ radius_se                1  103.112 115.11\n",
      "+ perimeter_mean           1  109.775 121.78\n",
      "+ perimeter_se             1  110.050 122.05\n",
      "+ radius_mean              1  110.773 122.77\n",
      "+ compactness_mean         1  111.291 123.29\n",
      "+ symmetry_worst           1  111.414 123.41\n",
      "+ compactness_worst        1  112.163 124.16\n",
      "+ compactness_se           1  112.776 124.78\n",
      "+ area_mean                1  113.354 125.35\n",
      "<none>                        115.540 125.54\n",
      "+ fractal_dimension_se     1  113.563 125.56\n",
      "+ symmetry_se              1  113.724 125.72\n",
      "+ symmetry_mean            1  113.862 125.86\n",
      "+ texture_se               1  114.918 126.92\n",
      "+ fractal_dimension_mean   1  115.082 127.08\n",
      "+ concavity_mean           1  115.164 127.16\n",
      "+ fractal_dimension_worst  1  115.177 127.18\n",
      "+ concave_points_mean      1  115.242 127.24\n",
      "+ texture_mean             1  115.274 127.27\n",
      "+ smoothness_mean          1  115.378 127.38\n",
      "+ concavity_worst          1  115.461 127.46\n",
      "+ concave_points_se        1  115.476 127.48\n",
      "+ concavity_se             1  115.515 127.52\n",
      "+ smoothness_se            1  115.530 127.53\n",
      "- smoothness_worst         1  123.410 131.41\n",
      "- concave_points_worst     1  128.107 136.11\n",
      "- texture_worst            1  157.609 165.61\n",
      "- perimeter_worst          1  244.527 252.53\n"
     ]
    },
    {
     "name": "stderr",
     "output_type": "stream",
     "text": [
      "Warning message:\n",
      "\"glm.fit: fitted probabilities numerically 0 or 1 occurred\"\n"
     ]
    },
    {
     "name": "stdout",
     "output_type": "stream",
     "text": [
      "\n",
      "Step:  AIC=103.4\n",
      "as.factor(diagnosis) ~ perimeter_worst + smoothness_worst + texture_worst + \n",
      "    concave_points_worst + area_worst\n",
      "\n"
     ]
    },
    {
     "name": "stderr",
     "output_type": "stream",
     "text": [
      "Warning message:\n",
      "\"glm.fit: fitted probabilities numerically 0 or 1 occurred\"\n",
      "Warning message:\n",
      "\"glm.fit: fitted probabilities numerically 0 or 1 occurred\"\n",
      "Warning message:\n",
      "\"glm.fit: fitted probabilities numerically 0 or 1 occurred\"\n",
      "Warning message:\n",
      "\"glm.fit: fitted probabilities numerically 0 or 1 occurred\"\n",
      "Warning message:\n",
      "\"glm.fit: fitted probabilities numerically 0 or 1 occurred\"\n",
      "Warning message:\n",
      "\"glm.fit: fitted probabilities numerically 0 or 1 occurred\"\n",
      "Warning message:\n",
      "\"glm.fit: fitted probabilities numerically 0 or 1 occurred\"\n",
      "Warning message:\n",
      "\"glm.fit: fitted probabilities numerically 0 or 1 occurred\"\n",
      "Warning message:\n",
      "\"glm.fit: fitted probabilities numerically 0 or 1 occurred\"\n",
      "Warning message:\n",
      "\"glm.fit: fitted probabilities numerically 0 or 1 occurred\"\n",
      "Warning message:\n",
      "\"glm.fit: fitted probabilities numerically 0 or 1 occurred\"\n",
      "Warning message:\n",
      "\"glm.fit: fitted probabilities numerically 0 or 1 occurred\"\n",
      "Warning message:\n",
      "\"glm.fit: fitted probabilities numerically 0 or 1 occurred\"\n",
      "Warning message:\n",
      "\"glm.fit: fitted probabilities numerically 0 or 1 occurred\"\n",
      "Warning message:\n",
      "\"glm.fit: fitted probabilities numerically 0 or 1 occurred\"\n",
      "Warning message:\n",
      "\"glm.fit: fitted probabilities numerically 0 or 1 occurred\"\n",
      "Warning message:\n",
      "\"glm.fit: fitted probabilities numerically 0 or 1 occurred\"\n",
      "Warning message:\n",
      "\"glm.fit: fitted probabilities numerically 0 or 1 occurred\"\n",
      "Warning message:\n",
      "\"glm.fit: fitted probabilities numerically 0 or 1 occurred\"\n",
      "Warning message:\n",
      "\"glm.fit: fitted probabilities numerically 0 or 1 occurred\"\n",
      "Warning message:\n",
      "\"glm.fit: fitted probabilities numerically 0 or 1 occurred\"\n",
      "Warning message:\n",
      "\"glm.fit: fitted probabilities numerically 0 or 1 occurred\"\n",
      "Warning message:\n",
      "\"glm.fit: fitted probabilities numerically 0 or 1 occurred\"\n",
      "Warning message:\n",
      "\"glm.fit: fitted probabilities numerically 0 or 1 occurred\"\n",
      "Warning message:\n",
      "\"glm.fit: fitted probabilities numerically 0 or 1 occurred\"\n",
      "Warning message:\n",
      "\"glm.fit: fitted probabilities numerically 0 or 1 occurred\"\n",
      "Warning message:\n",
      "\"glm.fit: fitted probabilities numerically 0 or 1 occurred\"\n",
      "Warning message:\n",
      "\"glm.fit: fitted probabilities numerically 0 or 1 occurred\"\n",
      "Warning message:\n",
      "\"glm.fit: fitted probabilities numerically 0 or 1 occurred\"\n",
      "Warning message:\n",
      "\"glm.fit: fitted probabilities numerically 0 or 1 occurred\"\n",
      "Warning message:\n",
      "\"glm.fit: fitted probabilities numerically 0 or 1 occurred\"\n"
     ]
    },
    {
     "name": "stdout",
     "output_type": "stream",
     "text": [
      "                          Df Deviance     AIC\n",
      "+ radius_mean              1   81.078  95.078\n",
      "+ area_mean                1   82.567  96.567\n",
      "+ perimeter_mean           1   82.872  96.872\n",
      "+ perimeter_se             1   83.538  97.538\n",
      "+ radius_se                1   84.584  98.584\n",
      "+ area_se                  1   84.760  98.760\n",
      "<none>                         91.403 103.403\n",
      "+ concavity_worst          1   89.727 103.727\n",
      "+ concavity_mean           1   89.864 103.864\n",
      "+ texture_mean             1   90.068 104.068\n",
      "+ fractal_dimension_worst  1   90.287 104.287\n",
      "+ symmetry_worst           1   90.422 104.422\n",
      "+ symmetry_mean            1   90.877 104.877\n",
      "+ compactness_worst        1   90.892 104.892\n",
      "+ texture_se               1   90.944 104.944\n",
      "+ symmetry_se              1   91.092 105.092\n",
      "+ fractal_dimension_mean   1   91.105 105.105\n",
      "+ concavity_se             1   91.204 105.204\n",
      "+ fractal_dimension_se     1   91.225 105.225\n",
      "+ smoothness_se            1   91.232 105.232\n",
      "+ smoothness_mean          1   91.258 105.258\n",
      "+ concave_points_mean      1   91.259 105.259\n",
      "+ compactness_se           1   91.341 105.341\n",
      "+ concave_points_se        1   91.388 105.388\n",
      "+ compactness_mean         1   91.394 105.394\n",
      "+ radius_worst             1   91.403 105.403\n",
      "- smoothness_worst         1   96.063 106.063\n",
      "- perimeter_worst          1   98.779 108.779\n",
      "- area_worst               1  115.540 125.540\n",
      "- texture_worst            1  120.207 130.207\n",
      "- concave_points_worst     1  121.999 131.999\n"
     ]
    },
    {
     "name": "stderr",
     "output_type": "stream",
     "text": [
      "Warning message:\n",
      "\"glm.fit: fitted probabilities numerically 0 or 1 occurred\"\n"
     ]
    },
    {
     "name": "stdout",
     "output_type": "stream",
     "text": [
      "\n",
      "Step:  AIC=95.08\n",
      "as.factor(diagnosis) ~ perimeter_worst + smoothness_worst + texture_worst + \n",
      "    concave_points_worst + area_worst + radius_mean\n",
      "\n"
     ]
    },
    {
     "name": "stderr",
     "output_type": "stream",
     "text": [
      "Warning message:\n",
      "\"glm.fit: fitted probabilities numerically 0 or 1 occurred\"\n",
      "Warning message:\n",
      "\"glm.fit: fitted probabilities numerically 0 or 1 occurred\"\n",
      "Warning message:\n",
      "\"glm.fit: fitted probabilities numerically 0 or 1 occurred\"\n",
      "Warning message:\n",
      "\"glm.fit: fitted probabilities numerically 0 or 1 occurred\"\n",
      "Warning message:\n",
      "\"glm.fit: fitted probabilities numerically 0 or 1 occurred\"\n",
      "Warning message:\n",
      "\"glm.fit: fitted probabilities numerically 0 or 1 occurred\"\n",
      "Warning message:\n",
      "\"glm.fit: fitted probabilities numerically 0 or 1 occurred\"\n",
      "Warning message:\n",
      "\"glm.fit: fitted probabilities numerically 0 or 1 occurred\"\n",
      "Warning message:\n",
      "\"glm.fit: fitted probabilities numerically 0 or 1 occurred\"\n",
      "Warning message:\n",
      "\"glm.fit: fitted probabilities numerically 0 or 1 occurred\"\n",
      "Warning message:\n",
      "\"glm.fit: fitted probabilities numerically 0 or 1 occurred\"\n",
      "Warning message:\n",
      "\"glm.fit: fitted probabilities numerically 0 or 1 occurred\"\n",
      "Warning message:\n",
      "\"glm.fit: fitted probabilities numerically 0 or 1 occurred\"\n",
      "Warning message:\n",
      "\"glm.fit: fitted probabilities numerically 0 or 1 occurred\"\n",
      "Warning message:\n",
      "\"glm.fit: fitted probabilities numerically 0 or 1 occurred\"\n",
      "Warning message:\n",
      "\"glm.fit: fitted probabilities numerically 0 or 1 occurred\"\n",
      "Warning message:\n",
      "\"glm.fit: fitted probabilities numerically 0 or 1 occurred\"\n",
      "Warning message:\n",
      "\"glm.fit: fitted probabilities numerically 0 or 1 occurred\"\n",
      "Warning message:\n",
      "\"glm.fit: fitted probabilities numerically 0 or 1 occurred\"\n",
      "Warning message:\n",
      "\"glm.fit: fitted probabilities numerically 0 or 1 occurred\"\n",
      "Warning message:\n",
      "\"glm.fit: fitted probabilities numerically 0 or 1 occurred\"\n",
      "Warning message:\n",
      "\"glm.fit: fitted probabilities numerically 0 or 1 occurred\"\n",
      "Warning message:\n",
      "\"glm.fit: fitted probabilities numerically 0 or 1 occurred\"\n",
      "Warning message:\n",
      "\"glm.fit: fitted probabilities numerically 0 or 1 occurred\"\n",
      "Warning message:\n",
      "\"glm.fit: fitted probabilities numerically 0 or 1 occurred\"\n",
      "Warning message:\n",
      "\"glm.fit: fitted probabilities numerically 0 or 1 occurred\"\n",
      "Warning message:\n",
      "\"glm.fit: fitted probabilities numerically 0 or 1 occurred\"\n",
      "Warning message:\n",
      "\"glm.fit: fitted probabilities numerically 0 or 1 occurred\"\n",
      "Warning message:\n",
      "\"glm.fit: fitted probabilities numerically 0 or 1 occurred\"\n",
      "Warning message:\n",
      "\"glm.fit: fitted probabilities numerically 0 or 1 occurred\"\n",
      "Warning message:\n",
      "\"glm.fit: fitted probabilities numerically 0 or 1 occurred\"\n"
     ]
    },
    {
     "name": "stdout",
     "output_type": "stream",
     "text": [
      "                          Df Deviance     AIC\n",
      "+ area_se                  1   70.016  86.016\n",
      "+ radius_se                1   71.089  87.089\n",
      "+ perimeter_se             1   71.392  87.392\n",
      "+ concave_points_mean      1   75.346  91.346\n",
      "+ texture_mean             1   76.279  92.279\n",
      "+ concavity_mean           1   76.939  92.939\n",
      "+ smoothness_se            1   77.450  93.450\n",
      "+ concave_points_se        1   77.914  93.914\n",
      "+ smoothness_mean          1   78.401  94.401\n",
      "<none>                         81.078  95.078\n",
      "+ perimeter_mean           1   79.152  95.152\n",
      "+ concavity_se             1   79.218  95.218\n",
      "- perimeter_worst          1   83.523  95.523\n",
      "+ concavity_worst          1   79.528  95.528\n",
      "+ symmetry_se              1   80.316  96.316\n",
      "+ area_mean                1   80.339  96.339\n",
      "+ compactness_se           1   80.448  96.448\n",
      "+ compactness_worst        1   80.559  96.559\n",
      "+ compactness_mean         1   80.617  96.617\n",
      "+ texture_se               1   80.751  96.751\n",
      "+ fractal_dimension_se     1   80.760  96.760\n",
      "+ fractal_dimension_mean   1   80.883  96.883\n",
      "+ symmetry_mean            1   80.913  96.913\n",
      "+ fractal_dimension_worst  1   81.042  97.042\n",
      "+ radius_worst             1   81.061  97.061\n",
      "+ symmetry_worst           1   81.075  97.075\n",
      "- smoothness_worst         1   85.920  97.920\n",
      "- radius_mean              1   91.403 103.403\n",
      "- concave_points_worst     1  105.304 117.304\n",
      "- texture_worst            1  108.094 120.094\n",
      "- area_worst               1  110.773 122.773\n"
     ]
    },
    {
     "name": "stderr",
     "output_type": "stream",
     "text": [
      "Warning message:\n",
      "\"glm.fit: fitted probabilities numerically 0 or 1 occurred\"\n"
     ]
    },
    {
     "name": "stdout",
     "output_type": "stream",
     "text": [
      "\n",
      "Step:  AIC=86.02\n",
      "as.factor(diagnosis) ~ perimeter_worst + smoothness_worst + texture_worst + \n",
      "    concave_points_worst + area_worst + radius_mean + area_se\n",
      "\n"
     ]
    },
    {
     "name": "stderr",
     "output_type": "stream",
     "text": [
      "Warning message:\n",
      "\"glm.fit: fitted probabilities numerically 0 or 1 occurred\"\n",
      "Warning message:\n",
      "\"glm.fit: fitted probabilities numerically 0 or 1 occurred\"\n",
      "Warning message:\n",
      "\"glm.fit: fitted probabilities numerically 0 or 1 occurred\"\n",
      "Warning message:\n",
      "\"glm.fit: fitted probabilities numerically 0 or 1 occurred\"\n",
      "Warning message:\n",
      "\"glm.fit: fitted probabilities numerically 0 or 1 occurred\"\n",
      "Warning message:\n",
      "\"glm.fit: fitted probabilities numerically 0 or 1 occurred\"\n",
      "Warning message:\n",
      "\"glm.fit: fitted probabilities numerically 0 or 1 occurred\"\n",
      "Warning message:\n",
      "\"glm.fit: fitted probabilities numerically 0 or 1 occurred\"\n",
      "Warning message:\n",
      "\"glm.fit: fitted probabilities numerically 0 or 1 occurred\"\n",
      "Warning message:\n",
      "\"glm.fit: fitted probabilities numerically 0 or 1 occurred\"\n",
      "Warning message:\n",
      "\"glm.fit: fitted probabilities numerically 0 or 1 occurred\"\n",
      "Warning message:\n",
      "\"glm.fit: fitted probabilities numerically 0 or 1 occurred\"\n",
      "Warning message:\n",
      "\"glm.fit: fitted probabilities numerically 0 or 1 occurred\"\n",
      "Warning message:\n",
      "\"glm.fit: fitted probabilities numerically 0 or 1 occurred\"\n",
      "Warning message:\n",
      "\"glm.fit: fitted probabilities numerically 0 or 1 occurred\"\n",
      "Warning message:\n",
      "\"glm.fit: fitted probabilities numerically 0 or 1 occurred\"\n",
      "Warning message:\n",
      "\"glm.fit: fitted probabilities numerically 0 or 1 occurred\"\n",
      "Warning message:\n",
      "\"glm.fit: fitted probabilities numerically 0 or 1 occurred\"\n",
      "Warning message:\n",
      "\"glm.fit: fitted probabilities numerically 0 or 1 occurred\"\n",
      "Warning message:\n",
      "\"glm.fit: fitted probabilities numerically 0 or 1 occurred\"\n",
      "Warning message:\n",
      "\"glm.fit: fitted probabilities numerically 0 or 1 occurred\"\n",
      "Warning message:\n",
      "\"glm.fit: fitted probabilities numerically 0 or 1 occurred\"\n",
      "Warning message:\n",
      "\"glm.fit: fitted probabilities numerically 0 or 1 occurred\"\n",
      "Warning message:\n",
      "\"glm.fit: fitted probabilities numerically 0 or 1 occurred\"\n",
      "Warning message:\n",
      "\"glm.fit: fitted probabilities numerically 0 or 1 occurred\"\n",
      "Warning message:\n",
      "\"glm.fit: fitted probabilities numerically 0 or 1 occurred\"\n",
      "Warning message:\n",
      "\"glm.fit: fitted probabilities numerically 0 or 1 occurred\"\n",
      "Warning message:\n",
      "\"glm.fit: fitted probabilities numerically 0 or 1 occurred\"\n",
      "Warning message:\n",
      "\"glm.fit: fitted probabilities numerically 0 or 1 occurred\"\n",
      "Warning message:\n",
      "\"glm.fit: fitted probabilities numerically 0 or 1 occurred\"\n",
      "Warning message:\n",
      "\"glm.fit: fitted probabilities numerically 0 or 1 occurred\"\n"
     ]
    },
    {
     "name": "stdout",
     "output_type": "stream",
     "text": [
      "                          Df Deviance     AIC\n",
      "+ compactness_se           1   63.997  81.997\n",
      "+ fractal_dimension_se     1   64.928  82.928\n",
      "+ texture_se               1   65.040  83.040\n",
      "- perimeter_worst          1   71.154  85.154\n",
      "+ symmetry_se              1   67.647  85.647\n",
      "<none>                         70.016  86.016\n",
      "+ concave_points_se        1   68.204  86.204\n",
      "+ compactness_mean         1   68.284  86.284\n",
      "+ radius_worst             1   68.565  86.565\n",
      "+ texture_mean             1   68.633  86.633\n",
      "+ concavity_se             1   69.476  87.476\n",
      "+ perimeter_mean           1   69.538  87.538\n",
      "+ concavity_worst          1   69.561  87.561\n",
      "+ fractal_dimension_mean   1   69.571  87.571\n",
      "+ compactness_worst        1   69.629  87.629\n",
      "+ area_mean                1   69.651  87.651\n",
      "+ smoothness_mean          1   69.653  87.653\n",
      "+ concave_points_mean      1   69.676  87.676\n",
      "+ radius_se                1   69.820  87.820\n",
      "+ concavity_mean           1   69.955  87.955\n",
      "+ perimeter_se             1   69.977  87.977\n",
      "+ symmetry_mean            1   69.979  87.979\n",
      "+ smoothness_se            1   69.991  87.991\n",
      "+ symmetry_worst           1   69.995  87.995\n",
      "+ fractal_dimension_worst  1   70.001  88.001\n",
      "- smoothness_worst         1   76.717  90.717\n",
      "- area_se                  1   81.078  95.078\n",
      "- radius_mean              1   84.760  98.760\n",
      "- area_worst               1   93.403 107.403\n",
      "- concave_points_worst     1   98.388 112.388\n",
      "- texture_worst            1  101.419 115.419\n"
     ]
    },
    {
     "name": "stderr",
     "output_type": "stream",
     "text": [
      "Warning message:\n",
      "\"glm.fit: fitted probabilities numerically 0 or 1 occurred\"\n"
     ]
    },
    {
     "name": "stdout",
     "output_type": "stream",
     "text": [
      "\n",
      "Step:  AIC=82\n",
      "as.factor(diagnosis) ~ perimeter_worst + smoothness_worst + texture_worst + \n",
      "    concave_points_worst + area_worst + radius_mean + area_se + \n",
      "    compactness_se\n",
      "\n"
     ]
    },
    {
     "name": "stderr",
     "output_type": "stream",
     "text": [
      "Warning message:\n",
      "\"glm.fit: fitted probabilities numerically 0 or 1 occurred\"\n",
      "Warning message:\n",
      "\"glm.fit: fitted probabilities numerically 0 or 1 occurred\"\n",
      "Warning message:\n",
      "\"glm.fit: fitted probabilities numerically 0 or 1 occurred\"\n",
      "Warning message:\n",
      "\"glm.fit: fitted probabilities numerically 0 or 1 occurred\"\n",
      "Warning message:\n",
      "\"glm.fit: fitted probabilities numerically 0 or 1 occurred\"\n",
      "Warning message:\n",
      "\"glm.fit: fitted probabilities numerically 0 or 1 occurred\"\n",
      "Warning message:\n",
      "\"glm.fit: fitted probabilities numerically 0 or 1 occurred\"\n",
      "Warning message:\n",
      "\"glm.fit: fitted probabilities numerically 0 or 1 occurred\"\n",
      "Warning message:\n",
      "\"glm.fit: fitted probabilities numerically 0 or 1 occurred\"\n",
      "Warning message:\n",
      "\"glm.fit: fitted probabilities numerically 0 or 1 occurred\"\n",
      "Warning message:\n",
      "\"glm.fit: fitted probabilities numerically 0 or 1 occurred\"\n",
      "Warning message:\n",
      "\"glm.fit: fitted probabilities numerically 0 or 1 occurred\"\n",
      "Warning message:\n",
      "\"glm.fit: fitted probabilities numerically 0 or 1 occurred\"\n",
      "Warning message:\n",
      "\"glm.fit: fitted probabilities numerically 0 or 1 occurred\"\n",
      "Warning message:\n",
      "\"glm.fit: fitted probabilities numerically 0 or 1 occurred\"\n",
      "Warning message:\n",
      "\"glm.fit: fitted probabilities numerically 0 or 1 occurred\"\n",
      "Warning message:\n",
      "\"glm.fit: fitted probabilities numerically 0 or 1 occurred\"\n",
      "Warning message:\n",
      "\"glm.fit: fitted probabilities numerically 0 or 1 occurred\"\n",
      "Warning message:\n",
      "\"glm.fit: fitted probabilities numerically 0 or 1 occurred\"\n",
      "Warning message:\n",
      "\"glm.fit: fitted probabilities numerically 0 or 1 occurred\"\n",
      "Warning message:\n",
      "\"glm.fit: fitted probabilities numerically 0 or 1 occurred\"\n",
      "Warning message:\n",
      "\"glm.fit: fitted probabilities numerically 0 or 1 occurred\"\n",
      "Warning message:\n",
      "\"glm.fit: fitted probabilities numerically 0 or 1 occurred\"\n",
      "Warning message:\n",
      "\"glm.fit: fitted probabilities numerically 0 or 1 occurred\"\n",
      "Warning message:\n",
      "\"glm.fit: fitted probabilities numerically 0 or 1 occurred\"\n",
      "Warning message:\n",
      "\"glm.fit: fitted probabilities numerically 0 or 1 occurred\"\n",
      "Warning message:\n",
      "\"glm.fit: fitted probabilities numerically 0 or 1 occurred\"\n",
      "Warning message:\n",
      "\"glm.fit: fitted probabilities numerically 0 or 1 occurred\"\n",
      "Warning message:\n",
      "\"glm.fit: fitted probabilities numerically 0 or 1 occurred\"\n",
      "Warning message:\n",
      "\"glm.fit: fitted probabilities numerically 0 or 1 occurred\"\n",
      "Warning message:\n",
      "\"glm.fit: fitted probabilities numerically 0 or 1 occurred\"\n"
     ]
    },
    {
     "name": "stdout",
     "output_type": "stream",
     "text": [
      "                          Df Deviance     AIC\n",
      "+ texture_se               1   57.586  77.586\n",
      "+ concavity_worst          1   58.991  78.991\n",
      "- perimeter_worst          1   64.079  80.079\n",
      "+ concavity_mean           1   60.194  80.194\n",
      "+ texture_mean             1   61.310  81.310\n",
      "+ perimeter_mean           1   61.583  81.583\n",
      "+ perimeter_se             1   61.945  81.945\n",
      "+ fractal_dimension_worst  1   61.986  81.986\n",
      "<none>                         63.997  81.997\n",
      "+ concavity_se             1   62.243  82.243\n",
      "+ radius_worst             1   62.631  82.631\n",
      "+ smoothness_se            1   62.730  82.730\n",
      "+ symmetry_se              1   62.847  82.847\n",
      "+ fractal_dimension_mean   1   62.928  82.928\n",
      "+ concave_points_mean      1   63.190  83.190\n",
      "+ radius_se                1   63.394  83.394\n",
      "+ compactness_worst        1   63.419  83.419\n",
      "+ symmetry_mean            1   63.492  83.492\n",
      "+ area_mean                1   63.666  83.666\n",
      "+ smoothness_mean          1   63.703  83.703\n",
      "+ concave_points_se        1   63.968  83.968\n",
      "+ symmetry_worst           1   63.979  83.979\n",
      "+ compactness_mean         1   63.986  83.986\n",
      "+ fractal_dimension_se     1   63.988  83.988\n",
      "- compactness_se           1   70.016  86.016\n",
      "- smoothness_worst         1   71.502  87.502\n",
      "- radius_mean              1   76.748  92.748\n",
      "- area_worst               1   79.139  95.139\n",
      "- area_se                  1   80.448  96.448\n",
      "- concave_points_worst     1   98.186 114.186\n",
      "- texture_worst            1   99.933 115.933\n"
     ]
    },
    {
     "name": "stderr",
     "output_type": "stream",
     "text": [
      "Warning message:\n",
      "\"glm.fit: fitted probabilities numerically 0 or 1 occurred\"\n"
     ]
    },
    {
     "name": "stdout",
     "output_type": "stream",
     "text": [
      "\n",
      "Step:  AIC=77.59\n",
      "as.factor(diagnosis) ~ perimeter_worst + smoothness_worst + texture_worst + \n",
      "    concave_points_worst + area_worst + radius_mean + area_se + \n",
      "    compactness_se + texture_se\n",
      "\n"
     ]
    },
    {
     "name": "stderr",
     "output_type": "stream",
     "text": [
      "Warning message:\n",
      "\"glm.fit: fitted probabilities numerically 0 or 1 occurred\"\n",
      "Warning message:\n",
      "\"glm.fit: fitted probabilities numerically 0 or 1 occurred\"\n",
      "Warning message:\n",
      "\"glm.fit: fitted probabilities numerically 0 or 1 occurred\"\n",
      "Warning message:\n",
      "\"glm.fit: fitted probabilities numerically 0 or 1 occurred\"\n",
      "Warning message:\n",
      "\"glm.fit: fitted probabilities numerically 0 or 1 occurred\"\n",
      "Warning message:\n",
      "\"glm.fit: fitted probabilities numerically 0 or 1 occurred\"\n",
      "Warning message:\n",
      "\"glm.fit: fitted probabilities numerically 0 or 1 occurred\"\n",
      "Warning message:\n",
      "\"glm.fit: fitted probabilities numerically 0 or 1 occurred\"\n",
      "Warning message:\n",
      "\"glm.fit: fitted probabilities numerically 0 or 1 occurred\"\n",
      "Warning message:\n",
      "\"glm.fit: fitted probabilities numerically 0 or 1 occurred\"\n",
      "Warning message:\n",
      "\"glm.fit: fitted probabilities numerically 0 or 1 occurred\"\n",
      "Warning message:\n",
      "\"glm.fit: fitted probabilities numerically 0 or 1 occurred\"\n",
      "Warning message:\n",
      "\"glm.fit: fitted probabilities numerically 0 or 1 occurred\"\n",
      "Warning message:\n",
      "\"glm.fit: fitted probabilities numerically 0 or 1 occurred\"\n",
      "Warning message:\n",
      "\"glm.fit: fitted probabilities numerically 0 or 1 occurred\"\n",
      "Warning message:\n",
      "\"glm.fit: fitted probabilities numerically 0 or 1 occurred\"\n",
      "Warning message:\n",
      "\"glm.fit: fitted probabilities numerically 0 or 1 occurred\"\n",
      "Warning message:\n",
      "\"glm.fit: fitted probabilities numerically 0 or 1 occurred\"\n",
      "Warning message:\n",
      "\"glm.fit: fitted probabilities numerically 0 or 1 occurred\"\n",
      "Warning message:\n",
      "\"glm.fit: fitted probabilities numerically 0 or 1 occurred\"\n",
      "Warning message:\n",
      "\"glm.fit: fitted probabilities numerically 0 or 1 occurred\"\n",
      "Warning message:\n",
      "\"glm.fit: fitted probabilities numerically 0 or 1 occurred\"\n",
      "Warning message:\n",
      "\"glm.fit: fitted probabilities numerically 0 or 1 occurred\"\n",
      "Warning message:\n",
      "\"glm.fit: fitted probabilities numerically 0 or 1 occurred\"\n",
      "Warning message:\n",
      "\"glm.fit: fitted probabilities numerically 0 or 1 occurred\"\n",
      "Warning message:\n",
      "\"glm.fit: fitted probabilities numerically 0 or 1 occurred\"\n",
      "Warning message:\n",
      "\"glm.fit: fitted probabilities numerically 0 or 1 occurred\"\n",
      "Warning message:\n",
      "\"glm.fit: fitted probabilities numerically 0 or 1 occurred\"\n",
      "Warning message:\n",
      "\"glm.fit: fitted probabilities numerically 0 or 1 occurred\"\n",
      "Warning message:\n",
      "\"glm.fit: fitted probabilities numerically 0 or 1 occurred\"\n",
      "Warning message:\n",
      "\"glm.fit: fitted probabilities numerically 0 or 1 occurred\"\n"
     ]
    },
    {
     "name": "stdout",
     "output_type": "stream",
     "text": [
      "                          Df Deviance     AIC\n",
      "+ concavity_mean           1   42.088  64.088\n",
      "+ concavity_worst          1   48.160  70.160\n",
      "+ concavity_se             1   53.055  75.055\n",
      "- perimeter_worst          1   58.026  76.026\n",
      "+ concave_points_mean      1   54.179  76.179\n",
      "+ perimeter_mean           1   54.620  76.620\n",
      "<none>                         57.586  77.586\n",
      "+ radius_worst             1   55.929  77.929\n",
      "+ perimeter_se             1   56.176  78.176\n",
      "+ smoothness_se            1   56.257  78.257\n",
      "+ symmetry_se              1   56.747  78.747\n",
      "+ fractal_dimension_worst  1   56.772  78.772\n",
      "+ radius_se                1   56.789  78.789\n",
      "+ fractal_dimension_mean   1   56.826  78.826\n",
      "+ concave_points_se        1   57.004  79.004\n",
      "+ symmetry_worst           1   57.173  79.173\n",
      "+ smoothness_mean          1   57.213  79.213\n",
      "+ area_mean                1   57.231  79.231\n",
      "+ compactness_mean         1   57.317  79.317\n",
      "+ symmetry_mean            1   57.379  79.379\n",
      "+ fractal_dimension_se     1   57.536  79.536\n",
      "+ texture_mean             1   57.560  79.560\n",
      "+ compactness_worst        1   57.586  79.586\n",
      "- texture_se               1   63.997  81.997\n",
      "- compactness_se           1   65.040  83.040\n",
      "- smoothness_worst         1   67.165  85.165\n",
      "- radius_mean              1   67.401  85.401\n",
      "- area_worst               1   72.014  90.014\n",
      "- area_se                  1   80.358  98.358\n",
      "- concave_points_worst     1   93.281 111.281\n",
      "- texture_worst            1   94.521 112.521\n"
     ]
    },
    {
     "name": "stderr",
     "output_type": "stream",
     "text": [
      "Warning message:\n",
      "\"glm.fit: fitted probabilities numerically 0 or 1 occurred\"\n"
     ]
    },
    {
     "name": "stdout",
     "output_type": "stream",
     "text": [
      "\n",
      "Step:  AIC=64.09\n",
      "as.factor(diagnosis) ~ perimeter_worst + smoothness_worst + texture_worst + \n",
      "    concave_points_worst + area_worst + radius_mean + area_se + \n",
      "    compactness_se + texture_se + concavity_mean\n",
      "\n"
     ]
    },
    {
     "name": "stderr",
     "output_type": "stream",
     "text": [
      "Warning message:\n",
      "\"glm.fit: fitted probabilities numerically 0 or 1 occurred\"\n",
      "Warning message:\n",
      "\"glm.fit: fitted probabilities numerically 0 or 1 occurred\"\n",
      "Warning message:\n",
      "\"glm.fit: fitted probabilities numerically 0 or 1 occurred\"\n",
      "Warning message:\n",
      "\"glm.fit: fitted probabilities numerically 0 or 1 occurred\"\n",
      "Warning message:\n",
      "\"glm.fit: fitted probabilities numerically 0 or 1 occurred\"\n",
      "Warning message:\n",
      "\"glm.fit: fitted probabilities numerically 0 or 1 occurred\"\n",
      "Warning message:\n",
      "\"glm.fit: fitted probabilities numerically 0 or 1 occurred\"\n",
      "Warning message:\n",
      "\"glm.fit: fitted probabilities numerically 0 or 1 occurred\"\n",
      "Warning message:\n",
      "\"glm.fit: fitted probabilities numerically 0 or 1 occurred\"\n",
      "Warning message:\n",
      "\"glm.fit: fitted probabilities numerically 0 or 1 occurred\"\n",
      "Warning message:\n",
      "\"glm.fit: fitted probabilities numerically 0 or 1 occurred\"\n",
      "Warning message:\n",
      "\"glm.fit: fitted probabilities numerically 0 or 1 occurred\"\n",
      "Warning message:\n",
      "\"glm.fit: fitted probabilities numerically 0 or 1 occurred\"\n",
      "Warning message:\n",
      "\"glm.fit: fitted probabilities numerically 0 or 1 occurred\"\n",
      "Warning message:\n",
      "\"glm.fit: fitted probabilities numerically 0 or 1 occurred\"\n",
      "Warning message:\n",
      "\"glm.fit: fitted probabilities numerically 0 or 1 occurred\"\n",
      "Warning message:\n",
      "\"glm.fit: fitted probabilities numerically 0 or 1 occurred\"\n",
      "Warning message:\n",
      "\"glm.fit: fitted probabilities numerically 0 or 1 occurred\"\n",
      "Warning message:\n",
      "\"glm.fit: fitted probabilities numerically 0 or 1 occurred\"\n",
      "Warning message:\n",
      "\"glm.fit: fitted probabilities numerically 0 or 1 occurred\"\n",
      "Warning message:\n",
      "\"glm.fit: fitted probabilities numerically 0 or 1 occurred\"\n",
      "Warning message:\n",
      "\"glm.fit: fitted probabilities numerically 0 or 1 occurred\"\n",
      "Warning message:\n",
      "\"glm.fit: fitted probabilities numerically 0 or 1 occurred\"\n",
      "Warning message:\n",
      "\"glm.fit: fitted probabilities numerically 0 or 1 occurred\"\n",
      "Warning message:\n",
      "\"glm.fit: fitted probabilities numerically 0 or 1 occurred\"\n",
      "Warning message:\n",
      "\"glm.fit: fitted probabilities numerically 0 or 1 occurred\"\n",
      "Warning message:\n",
      "\"glm.fit: fitted probabilities numerically 0 or 1 occurred\"\n",
      "Warning message:\n",
      "\"glm.fit: fitted probabilities numerically 0 or 1 occurred\"\n",
      "Warning message:\n",
      "\"glm.fit: fitted probabilities numerically 0 or 1 occurred\"\n",
      "Warning message:\n",
      "\"glm.fit: fitted probabilities numerically 0 or 1 occurred\"\n",
      "Warning message:\n",
      "\"glm.fit: fitted probabilities numerically 0 or 1 occurred\"\n"
     ]
    },
    {
     "name": "stdout",
     "output_type": "stream",
     "text": [
      "                          Df Deviance     AIC\n",
      "+ radius_worst             1   35.967  59.967\n",
      "+ symmetry_se              1   37.683  61.683\n",
      "+ smoothness_se            1   38.628  62.628\n",
      "+ perimeter_se             1   39.328  63.328\n",
      "- perimeter_worst          1   43.857  63.857\n",
      "<none>                         42.088  64.088\n",
      "+ symmetry_worst           1   40.234  64.234\n",
      "+ radius_se                1   40.288  64.288\n",
      "+ concavity_se             1   40.401  64.401\n",
      "+ symmetry_mean            1   40.616  64.616\n",
      "+ fractal_dimension_se     1   40.706  64.706\n",
      "+ concavity_worst          1   41.466  65.466\n",
      "+ fractal_dimension_worst  1   41.562  65.562\n",
      "+ area_mean                1   41.749  65.749\n",
      "+ concave_points_mean      1   41.836  65.836\n",
      "+ concave_points_se        1   41.966  65.966\n",
      "+ smoothness_mean          1   41.966  65.966\n",
      "+ fractal_dimension_mean   1   42.028  66.028\n",
      "+ compactness_mean         1   42.035  66.035\n",
      "+ perimeter_mean           1   42.051  66.051\n",
      "+ texture_mean             1   42.088  66.088\n",
      "+ compactness_worst        1   42.088  66.088\n",
      "- radius_mean              1   51.194  71.194\n",
      "- smoothness_worst         1   53.409  73.409\n",
      "- concavity_mean           1   57.586  77.586\n",
      "- concave_points_worst     1   59.693  79.693\n",
      "- texture_se               1   60.194  80.194\n",
      "- area_worst               1   60.301  80.301\n",
      "- compactness_se           1   63.364  83.364\n",
      "- area_se                  1   74.737  94.737\n",
      "- texture_worst            1   93.483 113.483\n"
     ]
    },
    {
     "name": "stderr",
     "output_type": "stream",
     "text": [
      "Warning message:\n",
      "\"glm.fit: fitted probabilities numerically 0 or 1 occurred\"\n"
     ]
    },
    {
     "name": "stdout",
     "output_type": "stream",
     "text": [
      "\n",
      "Step:  AIC=59.97\n",
      "as.factor(diagnosis) ~ perimeter_worst + smoothness_worst + texture_worst + \n",
      "    concave_points_worst + area_worst + radius_mean + area_se + \n",
      "    compactness_se + texture_se + concavity_mean + radius_worst\n",
      "\n"
     ]
    },
    {
     "name": "stderr",
     "output_type": "stream",
     "text": [
      "Warning message:\n",
      "\"glm.fit: fitted probabilities numerically 0 or 1 occurred\"\n",
      "Warning message:\n",
      "\"glm.fit: fitted probabilities numerically 0 or 1 occurred\"\n",
      "Warning message:\n",
      "\"glm.fit: fitted probabilities numerically 0 or 1 occurred\"\n",
      "Warning message:\n",
      "\"glm.fit: fitted probabilities numerically 0 or 1 occurred\"\n",
      "Warning message:\n",
      "\"glm.fit: fitted probabilities numerically 0 or 1 occurred\"\n",
      "Warning message:\n",
      "\"glm.fit: fitted probabilities numerically 0 or 1 occurred\"\n",
      "Warning message:\n",
      "\"glm.fit: fitted probabilities numerically 0 or 1 occurred\"\n",
      "Warning message:\n",
      "\"glm.fit: fitted probabilities numerically 0 or 1 occurred\"\n",
      "Warning message:\n",
      "\"glm.fit: fitted probabilities numerically 0 or 1 occurred\"\n",
      "Warning message:\n",
      "\"glm.fit: fitted probabilities numerically 0 or 1 occurred\"\n",
      "Warning message:\n",
      "\"glm.fit: fitted probabilities numerically 0 or 1 occurred\"\n",
      "Warning message:\n",
      "\"glm.fit: fitted probabilities numerically 0 or 1 occurred\"\n",
      "Warning message:\n",
      "\"glm.fit: fitted probabilities numerically 0 or 1 occurred\"\n",
      "Warning message:\n",
      "\"glm.fit: fitted probabilities numerically 0 or 1 occurred\"\n",
      "Warning message:\n",
      "\"glm.fit: fitted probabilities numerically 0 or 1 occurred\"\n",
      "Warning message:\n",
      "\"glm.fit: fitted probabilities numerically 0 or 1 occurred\"\n",
      "Warning message:\n",
      "\"glm.fit: fitted probabilities numerically 0 or 1 occurred\"\n",
      "Warning message:\n",
      "\"glm.fit: fitted probabilities numerically 0 or 1 occurred\"\n",
      "Warning message:\n",
      "\"glm.fit: fitted probabilities numerically 0 or 1 occurred\"\n",
      "Warning message:\n",
      "\"glm.fit: fitted probabilities numerically 0 or 1 occurred\"\n",
      "Warning message:\n",
      "\"glm.fit: fitted probabilities numerically 0 or 1 occurred\"\n",
      "Warning message:\n",
      "\"glm.fit: fitted probabilities numerically 0 or 1 occurred\"\n",
      "Warning message:\n",
      "\"glm.fit: fitted probabilities numerically 0 or 1 occurred\"\n",
      "Warning message:\n",
      "\"glm.fit: fitted probabilities numerically 0 or 1 occurred\"\n",
      "Warning message:\n",
      "\"glm.fit: fitted probabilities numerically 0 or 1 occurred\"\n",
      "Warning message:\n",
      "\"glm.fit: fitted probabilities numerically 0 or 1 occurred\"\n",
      "Warning message:\n",
      "\"glm.fit: fitted probabilities numerically 0 or 1 occurred\"\n",
      "Warning message:\n",
      "\"glm.fit: fitted probabilities numerically 0 or 1 occurred\"\n",
      "Warning message:\n",
      "\"glm.fit: fitted probabilities numerically 0 or 1 occurred\"\n",
      "Warning message:\n",
      "\"glm.fit: fitted probabilities numerically 0 or 1 occurred\"\n",
      "Warning message:\n",
      "\"glm.fit: fitted probabilities numerically 0 or 1 occurred\"\n"
     ]
    },
    {
     "name": "stdout",
     "output_type": "stream",
     "text": [
      "                          Df Deviance     AIC\n",
      "+ compactness_mean         1   29.106  55.106\n",
      "+ radius_se                1   30.057  56.057\n",
      "+ smoothness_mean          1   30.586  56.586\n",
      "+ smoothness_se            1   30.979  56.979\n",
      "+ concave_points_mean      1   31.844  57.844\n",
      "- area_worst               1   37.011  59.011\n",
      "+ area_mean                1   33.918  59.918\n",
      "+ fractal_dimension_se     1   33.929  59.929\n",
      "<none>                         35.967  59.967\n",
      "+ symmetry_se              1   34.203  60.203\n",
      "+ fractal_dimension_mean   1   34.692  60.692\n",
      "+ perimeter_mean           1   34.872  60.872\n",
      "+ compactness_worst        1   34.876  60.876\n",
      "+ concave_points_se        1   35.159  61.159\n",
      "+ concavity_worst          1   35.192  61.192\n",
      "+ perimeter_se             1   35.590  61.590\n",
      "+ symmetry_worst           1   35.620  61.620\n",
      "+ concavity_se             1   35.714  61.714\n",
      "+ symmetry_mean            1   35.759  61.759\n",
      "+ fractal_dimension_worst  1   35.798  61.798\n",
      "+ texture_mean             1   35.920  61.920\n",
      "- radius_worst             1   42.088  64.088\n",
      "- perimeter_worst          1   42.103  64.103\n",
      "- radius_mean              1   47.480  69.480\n",
      "- smoothness_worst         1   48.730  70.730\n",
      "- concave_points_worst     1   52.329  74.329\n",
      "- concavity_mean           1   55.929  77.929\n",
      "- texture_se               1   57.661  79.661\n",
      "- compactness_se           1   60.905  82.905\n",
      "- area_se                  1   73.915  95.915\n",
      "- texture_worst            1   93.394 115.394\n"
     ]
    },
    {
     "name": "stderr",
     "output_type": "stream",
     "text": [
      "Warning message:\n",
      "\"glm.fit: fitted probabilities numerically 0 or 1 occurred\"\n"
     ]
    },
    {
     "name": "stdout",
     "output_type": "stream",
     "text": [
      "\n",
      "Step:  AIC=55.11\n",
      "as.factor(diagnosis) ~ perimeter_worst + smoothness_worst + texture_worst + \n",
      "    concave_points_worst + area_worst + radius_mean + area_se + \n",
      "    compactness_se + texture_se + concavity_mean + radius_worst + \n",
      "    compactness_mean\n",
      "\n"
     ]
    },
    {
     "name": "stderr",
     "output_type": "stream",
     "text": [
      "Warning message:\n",
      "\"glm.fit: fitted probabilities numerically 0 or 1 occurred\"\n",
      "Warning message:\n",
      "\"glm.fit: fitted probabilities numerically 0 or 1 occurred\"\n",
      "Warning message:\n",
      "\"glm.fit: fitted probabilities numerically 0 or 1 occurred\"\n",
      "Warning message:\n",
      "\"glm.fit: fitted probabilities numerically 0 or 1 occurred\"\n",
      "Warning message:\n",
      "\"glm.fit: fitted probabilities numerically 0 or 1 occurred\"\n",
      "Warning message:\n",
      "\"glm.fit: fitted probabilities numerically 0 or 1 occurred\"\n",
      "Warning message:\n",
      "\"glm.fit: fitted probabilities numerically 0 or 1 occurred\"\n",
      "Warning message:\n",
      "\"glm.fit: fitted probabilities numerically 0 or 1 occurred\"\n",
      "Warning message:\n",
      "\"glm.fit: fitted probabilities numerically 0 or 1 occurred\"\n",
      "Warning message:\n",
      "\"glm.fit: fitted probabilities numerically 0 or 1 occurred\"\n",
      "Warning message:\n",
      "\"glm.fit: fitted probabilities numerically 0 or 1 occurred\"\n",
      "Warning message:\n",
      "\"glm.fit: fitted probabilities numerically 0 or 1 occurred\"\n",
      "Warning message:\n",
      "\"glm.fit: fitted probabilities numerically 0 or 1 occurred\"\n",
      "Warning message:\n",
      "\"glm.fit: fitted probabilities numerically 0 or 1 occurred\"\n",
      "Warning message:\n",
      "\"glm.fit: fitted probabilities numerically 0 or 1 occurred\"\n",
      "Warning message:\n",
      "\"glm.fit: fitted probabilities numerically 0 or 1 occurred\"\n",
      "Warning message:\n",
      "\"glm.fit: fitted probabilities numerically 0 or 1 occurred\"\n",
      "Warning message:\n",
      "\"glm.fit: fitted probabilities numerically 0 or 1 occurred\"\n",
      "Warning message:\n",
      "\"glm.fit: fitted probabilities numerically 0 or 1 occurred\"\n",
      "Warning message:\n",
      "\"glm.fit: fitted probabilities numerically 0 or 1 occurred\"\n",
      "Warning message:\n",
      "\"glm.fit: fitted probabilities numerically 0 or 1 occurred\"\n",
      "Warning message:\n",
      "\"glm.fit: fitted probabilities numerically 0 or 1 occurred\"\n",
      "Warning message:\n",
      "\"glm.fit: fitted probabilities numerically 0 or 1 occurred\"\n",
      "Warning message:\n",
      "\"glm.fit: fitted probabilities numerically 0 or 1 occurred\"\n",
      "Warning message:\n",
      "\"glm.fit: fitted probabilities numerically 0 or 1 occurred\"\n",
      "Warning message:\n",
      "\"glm.fit: fitted probabilities numerically 0 or 1 occurred\"\n",
      "Warning message:\n",
      "\"glm.fit: fitted probabilities numerically 0 or 1 occurred\"\n",
      "Warning message:\n",
      "\"glm.fit: fitted probabilities numerically 0 or 1 occurred\"\n",
      "Warning message:\n",
      "\"glm.fit: fitted probabilities numerically 0 or 1 occurred\"\n",
      "Warning message:\n",
      "\"glm.fit: fitted probabilities numerically 0 or 1 occurred\"\n",
      "Warning message:\n",
      "\"glm.fit: fitted probabilities numerically 0 or 1 occurred\"\n"
     ]
    },
    {
     "name": "stdout",
     "output_type": "stream",
     "text": [
      "                          Df Deviance     AIC\n",
      "+ radius_se                1     0.00   28.00\n",
      "+ fractal_dimension_worst  1     0.00   28.00\n",
      "+ smoothness_mean          1     0.00   28.00\n",
      "+ perimeter_se             1     0.00   28.00\n",
      "+ fractal_dimension_mean   1     0.00   28.00\n",
      "+ symmetry_se              1    18.32   46.32\n",
      "+ concave_points_mean      1    24.07   52.07\n",
      "+ symmetry_mean            1    24.29   52.29\n",
      "+ symmetry_worst           1    24.88   52.88\n",
      "- perimeter_worst          1    29.58   53.58\n",
      "+ concavity_worst          1    27.05   55.05\n",
      "<none>                          29.11   55.11\n",
      "+ smoothness_se            1    27.54   55.54\n",
      "- area_worst               1    31.66   55.66\n",
      "+ concavity_se             1    27.91   55.91\n",
      "+ texture_mean             1    28.64   56.64\n",
      "+ fractal_dimension_se     1    28.71   56.71\n",
      "+ area_mean                1    28.99   56.99\n",
      "+ concave_points_se        1    29.09   57.09\n",
      "- compactness_mean         1    35.97   59.97\n",
      "- radius_worst             1    42.03   66.03\n",
      "- radius_mean              1    45.77   69.77\n",
      "- smoothness_worst         1    48.67   72.67\n",
      "- compactness_se           1    50.16   74.16\n",
      "- concave_points_worst     1    51.05   75.05\n",
      "- concavity_mean           1    55.90   79.90\n",
      "- texture_se               1    56.40   80.40\n",
      "- area_se                  1    73.59   97.59\n",
      "- texture_worst            1    92.55  116.55\n",
      "+ compactness_worst        1   720.87  748.87\n",
      "+ perimeter_mean           1  1441.75 1469.75\n"
     ]
    },
    {
     "name": "stderr",
     "output_type": "stream",
     "text": [
      "Warning message:\n",
      "\"glm.fit: fitted probabilities numerically 0 or 1 occurred\"\n"
     ]
    },
    {
     "name": "stdout",
     "output_type": "stream",
     "text": [
      "\n",
      "Step:  AIC=28\n",
      "as.factor(diagnosis) ~ perimeter_worst + smoothness_worst + texture_worst + \n",
      "    concave_points_worst + area_worst + radius_mean + area_se + \n",
      "    compactness_se + texture_se + concavity_mean + radius_worst + \n",
      "    compactness_mean + radius_se\n",
      "\n"
     ]
    },
    {
     "name": "stderr",
     "output_type": "stream",
     "text": [
      "Warning message:\n",
      "\"glm.fit: fitted probabilities numerically 0 or 1 occurred\"\n",
      "Warning message:\n",
      "\"glm.fit: fitted probabilities numerically 0 or 1 occurred\"\n",
      "Warning message:\n",
      "\"glm.fit: fitted probabilities numerically 0 or 1 occurred\"\n",
      "Warning message:\n",
      "\"glm.fit: fitted probabilities numerically 0 or 1 occurred\"\n",
      "Warning message:\n",
      "\"glm.fit: fitted probabilities numerically 0 or 1 occurred\"\n",
      "Warning message:\n",
      "\"glm.fit: fitted probabilities numerically 0 or 1 occurred\"\n",
      "Warning message:\n",
      "\"glm.fit: fitted probabilities numerically 0 or 1 occurred\"\n",
      "Warning message:\n",
      "\"glm.fit: fitted probabilities numerically 0 or 1 occurred\"\n",
      "Warning message:\n",
      "\"glm.fit: fitted probabilities numerically 0 or 1 occurred\"\n",
      "Warning message:\n",
      "\"glm.fit: fitted probabilities numerically 0 or 1 occurred\"\n",
      "Warning message:\n",
      "\"glm.fit: fitted probabilities numerically 0 or 1 occurred\"\n",
      "Warning message:\n",
      "\"glm.fit: fitted probabilities numerically 0 or 1 occurred\"\n",
      "Warning message:\n",
      "\"glm.fit: fitted probabilities numerically 0 or 1 occurred\"\n",
      "Warning message:\n",
      "\"glm.fit: fitted probabilities numerically 0 or 1 occurred\"\n",
      "Warning message:\n",
      "\"glm.fit: fitted probabilities numerically 0 or 1 occurred\"\n",
      "Warning message:\n",
      "\"glm.fit: fitted probabilities numerically 0 or 1 occurred\"\n",
      "Warning message:\n",
      "\"glm.fit: fitted probabilities numerically 0 or 1 occurred\"\n",
      "Warning message:\n",
      "\"glm.fit: fitted probabilities numerically 0 or 1 occurred\"\n",
      "Warning message:\n",
      "\"glm.fit: fitted probabilities numerically 0 or 1 occurred\"\n",
      "Warning message:\n",
      "\"glm.fit: fitted probabilities numerically 0 or 1 occurred\"\n",
      "Warning message:\n",
      "\"glm.fit: fitted probabilities numerically 0 or 1 occurred\"\n",
      "Warning message:\n",
      "\"glm.fit: fitted probabilities numerically 0 or 1 occurred\"\n",
      "Warning message:\n",
      "\"glm.fit: fitted probabilities numerically 0 or 1 occurred\"\n",
      "Warning message:\n",
      "\"glm.fit: fitted probabilities numerically 0 or 1 occurred\"\n",
      "Warning message:\n",
      "\"glm.fit: fitted probabilities numerically 0 or 1 occurred\"\n",
      "Warning message:\n",
      "\"glm.fit: fitted probabilities numerically 0 or 1 occurred\"\n",
      "Warning message:\n",
      "\"glm.fit: fitted probabilities numerically 0 or 1 occurred\"\n",
      "Warning message:\n",
      "\"glm.fit: fitted probabilities numerically 0 or 1 occurred\"\n",
      "Warning message:\n",
      "\"glm.fit: fitted probabilities numerically 0 or 1 occurred\"\n",
      "Warning message:\n",
      "\"glm.fit: fitted probabilities numerically 0 or 1 occurred\"\n",
      "Warning message:\n",
      "\"glm.fit: fitted probabilities numerically 0 or 1 occurred\"\n"
     ]
    },
    {
     "name": "stdout",
     "output_type": "stream",
     "text": [
      "                          Df Deviance     AIC\n",
      "- perimeter_worst          1     0.00   26.00\n",
      "<none>                           0.00   28.00\n",
      "+ fractal_dimension_worst  1     0.00   30.00\n",
      "+ symmetry_se              1     0.00   30.00\n",
      "+ fractal_dimension_mean   1     0.00   30.00\n",
      "+ compactness_worst        1     0.00   30.00\n",
      "+ smoothness_mean          1     0.00   30.00\n",
      "+ symmetry_mean            1     0.00   30.00\n",
      "+ perimeter_se             1     0.00   30.00\n",
      "+ concavity_worst          1     0.00   30.00\n",
      "+ texture_mean             1     0.00   30.00\n",
      "+ area_mean                1     0.00   30.00\n",
      "+ smoothness_se            1     0.00   30.00\n",
      "+ fractal_dimension_se     1     0.00   30.00\n",
      "- radius_se                1    29.11   55.11\n",
      "- area_worst               1    29.90   55.90\n",
      "- compactness_mean         1    30.06   56.06\n",
      "- radius_worst             1    40.29   66.29\n",
      "- smoothness_worst         1    40.85   66.85\n",
      "- radius_mean              1    41.28   67.28\n",
      "- compactness_se           1    44.51   70.51\n",
      "- area_se                  1    45.87   71.87\n",
      "- concave_points_worst     1    46.06   72.06\n",
      "- concavity_mean           1    53.11   79.11\n",
      "- texture_se               1    54.54   80.54\n",
      "- texture_worst            1    86.21  112.21\n",
      "+ concavity_se             1   720.87  750.87\n",
      "+ concave_points_mean      1   937.13  967.13\n",
      "+ perimeter_mean           1  1009.22 1039.22\n",
      "+ concave_points_se        1  1153.40 1183.40\n",
      "+ symmetry_worst           1  2234.71 2264.71\n"
     ]
    },
    {
     "name": "stderr",
     "output_type": "stream",
     "text": [
      "Warning message:\n",
      "\"glm.fit: fitted probabilities numerically 0 or 1 occurred\"\n"
     ]
    },
    {
     "name": "stdout",
     "output_type": "stream",
     "text": [
      "\n",
      "Step:  AIC=26\n",
      "as.factor(diagnosis) ~ smoothness_worst + texture_worst + concave_points_worst + \n",
      "    area_worst + radius_mean + area_se + compactness_se + texture_se + \n",
      "    concavity_mean + radius_worst + compactness_mean + radius_se\n",
      "\n"
     ]
    },
    {
     "name": "stderr",
     "output_type": "stream",
     "text": [
      "Warning message:\n",
      "\"glm.fit: fitted probabilities numerically 0 or 1 occurred\"\n",
      "Warning message:\n",
      "\"glm.fit: fitted probabilities numerically 0 or 1 occurred\"\n",
      "Warning message:\n",
      "\"glm.fit: fitted probabilities numerically 0 or 1 occurred\"\n",
      "Warning message:\n",
      "\"glm.fit: fitted probabilities numerically 0 or 1 occurred\"\n",
      "Warning message:\n",
      "\"glm.fit: fitted probabilities numerically 0 or 1 occurred\"\n",
      "Warning message:\n",
      "\"glm.fit: fitted probabilities numerically 0 or 1 occurred\"\n",
      "Warning message:\n",
      "\"glm.fit: fitted probabilities numerically 0 or 1 occurred\"\n",
      "Warning message:\n",
      "\"glm.fit: fitted probabilities numerically 0 or 1 occurred\"\n",
      "Warning message:\n",
      "\"glm.fit: fitted probabilities numerically 0 or 1 occurred\"\n",
      "Warning message:\n",
      "\"glm.fit: fitted probabilities numerically 0 or 1 occurred\"\n",
      "Warning message:\n",
      "\"glm.fit: fitted probabilities numerically 0 or 1 occurred\"\n",
      "Warning message:\n",
      "\"glm.fit: fitted probabilities numerically 0 or 1 occurred\"\n",
      "Warning message:\n",
      "\"glm.fit: fitted probabilities numerically 0 or 1 occurred\"\n",
      "Warning message:\n",
      "\"glm.fit: fitted probabilities numerically 0 or 1 occurred\"\n",
      "Warning message:\n",
      "\"glm.fit: fitted probabilities numerically 0 or 1 occurred\"\n",
      "Warning message:\n",
      "\"glm.fit: fitted probabilities numerically 0 or 1 occurred\"\n",
      "Warning message:\n",
      "\"glm.fit: fitted probabilities numerically 0 or 1 occurred\"\n",
      "Warning message:\n",
      "\"glm.fit: fitted probabilities numerically 0 or 1 occurred\"\n",
      "Warning message:\n",
      "\"glm.fit: fitted probabilities numerically 0 or 1 occurred\"\n",
      "Warning message:\n",
      "\"glm.fit: fitted probabilities numerically 0 or 1 occurred\"\n",
      "Warning message:\n",
      "\"glm.fit: fitted probabilities numerically 0 or 1 occurred\"\n",
      "Warning message:\n",
      "\"glm.fit: fitted probabilities numerically 0 or 1 occurred\"\n",
      "Warning message:\n",
      "\"glm.fit: fitted probabilities numerically 0 or 1 occurred\"\n",
      "Warning message:\n",
      "\"glm.fit: fitted probabilities numerically 0 or 1 occurred\"\n",
      "Warning message:\n",
      "\"glm.fit: fitted probabilities numerically 0 or 1 occurred\"\n",
      "Warning message:\n",
      "\"glm.fit: fitted probabilities numerically 0 or 1 occurred\"\n",
      "Warning message:\n",
      "\"glm.fit: fitted probabilities numerically 0 or 1 occurred\"\n",
      "Warning message:\n",
      "\"glm.fit: fitted probabilities numerically 0 or 1 occurred\"\n",
      "Warning message:\n",
      "\"glm.fit: fitted probabilities numerically 0 or 1 occurred\"\n",
      "Warning message:\n",
      "\"glm.fit: fitted probabilities numerically 0 or 1 occurred\"\n",
      "Warning message:\n",
      "\"glm.fit: fitted probabilities numerically 0 or 1 occurred\"\n"
     ]
    },
    {
     "name": "stdout",
     "output_type": "stream",
     "text": [
      "                          Df Deviance     AIC\n",
      "<none>                           0.00   26.00\n",
      "+ fractal_dimension_worst  1     0.00   28.00\n",
      "+ compactness_worst        1     0.00   28.00\n",
      "+ symmetry_se              1     0.00   28.00\n",
      "+ concavity_worst          1     0.00   28.00\n",
      "+ perimeter_worst          1     0.00   28.00\n",
      "+ smoothness_se            1     0.00   28.00\n",
      "+ texture_mean             1     0.00   28.00\n",
      "+ concave_points_se        1     0.00   28.00\n",
      "+ perimeter_se             1     0.00   28.00\n",
      "+ concave_points_mean      1     0.00   28.00\n",
      "+ perimeter_mean           1     0.00   28.00\n",
      "+ fractal_dimension_se     1     0.00   28.00\n",
      "+ area_mean                1     0.00   28.00\n",
      "- radius_se                1    29.58   53.58\n",
      "- area_worst               1    34.33   58.33\n",
      "- compactness_mean         1    36.94   60.94\n",
      "- radius_worst             1    41.19   65.19\n",
      "- smoothness_worst         1    42.83   66.83\n",
      "- radius_mean              1    47.28   71.28\n",
      "- area_se                  1    47.54   71.54\n",
      "- compactness_se           1    47.98   71.98\n",
      "- concave_points_worst     1    50.84   74.84\n",
      "- texture_se               1    54.55   78.55\n",
      "- concavity_mean           1    54.59   78.59\n",
      "- texture_worst            1    86.24  110.24\n",
      "+ concavity_se             1  1009.22 1037.22\n",
      "+ symmetry_mean            1  1153.40 1181.40\n",
      "+ fractal_dimension_mean   1  1297.57 1325.57\n",
      "+ symmetry_worst           1  1297.57 1325.57\n",
      "+ smoothness_mean          1  1369.66 1397.66\n"
     ]
    },
    {
     "data": {
      "text/plain": [
       "\n",
       "Call:  glm(formula = as.factor(diagnosis) ~ smoothness_worst + texture_worst + \n",
       "    concave_points_worst + area_worst + radius_mean + area_se + \n",
       "    compactness_se + texture_se + concavity_mean + radius_worst + \n",
       "    compactness_mean + radius_se, family = \"binomial\", data = bal_breast_cancer, \n",
       "    maxit = 100)\n",
       "\n",
       "Coefficients:\n",
       "         (Intercept)      smoothness_worst         texture_worst  \n",
       "              2338.6                 966.6                2588.3  \n",
       "concave_points_worst            area_worst           radius_mean  \n",
       "              2634.2              -17516.4               -2493.8  \n",
       "             area_se        compactness_se            texture_se  \n",
       "             15798.1               -1564.7               -1981.4  \n",
       "      concavity_mean          radius_worst      compactness_mean  \n",
       "              3512.9               17278.4               -1375.9  \n",
       "           radius_se  \n",
       "             -4330.8  \n",
       "\n",
       "Degrees of Freedom: 725 Total (i.e. Null);  713 Residual\n",
       "Null Deviance:\t    1006 \n",
       "Residual Deviance: 1.023e-08 \tAIC: 26"
      ]
     },
     "metadata": {},
     "output_type": "display_data"
    }
   ],
   "source": [
    "full <- glm(as.factor(diagnosis)~., data= bal_breast_cancer, family = \"binomial\", maxit = 100)\n",
    "null <- glm(as.factor(diagnosis)~1, data= bal_breast_cancer, family = \"binomial\", maxit = 100)\n",
    "\n",
    "step(null, scope = list(lower = null, upper = full), method = \"forward\")"
   ]
  },
  {
   "cell_type": "markdown",
   "metadata": {},
   "source": [
    "## Fit model\n",
    "- Get error rate 0.6%"
   ]
  },
  {
   "cell_type": "code",
   "execution_count": 145,
   "metadata": {},
   "outputs": [
    {
     "name": "stderr",
     "output_type": "stream",
     "text": [
      "Warning message:\n",
      "\"glm.fit: fitted probabilities numerically 0 or 1 occurred\"\n"
     ]
    }
   ],
   "source": [
    "logit_train = glm(as.factor(diagnosis) ~ smoothness_worst + texture_worst + \n",
    "    concave_points_worst + area_worst + radius_mean + area_se + \n",
    "    compactness_se + texture_se + concavity_mean + radius_worst + \n",
    "    compactness_mean + radius_se, family = \"binomial\", data = bal_breast_cancer[z,], maxit = 100)"
   ]
  },
  {
   "cell_type": "code",
   "execution_count": 146,
   "metadata": {},
   "outputs": [
    {
     "data": {
      "text/plain": [
       "         Actual\n",
       "Predicted  B  M\n",
       "        0 77  0\n",
       "        1  1 68"
      ]
     },
     "metadata": {},
     "output_type": "display_data"
    }
   ],
   "source": [
    "thresh <- 0.5\n",
    "pred.probs = predict(logit_train, type=\"response\", newdata = bal_breast_cancer[-z,]) # probability\n",
    "pred <- ifelse(pred.probs > thresh, 1, 0)\n",
    "\n",
    "conf.mat <- table(\"Predicted\"=pred, \"Actual\"=bal_breast_cancer[-z,]$diagnosis)\n",
    "conf.mat # error rate = 1.7%"
   ]
  },
  {
   "cell_type": "markdown",
   "metadata": {},
   "source": [
    "## Tuning model. Adjust threshold "
   ]
  },
  {
   "cell_type": "code",
   "execution_count": 147,
   "metadata": {},
   "outputs": [
    {
     "name": "stderr",
     "output_type": "stream",
     "text": [
      "Warning message:\n",
      "\"glm.fit: fitted probabilities numerically 0 or 1 occurred\"\n"
     ]
    }
   ],
   "source": [
    "logit_train = glm(as.factor(diagnosis) ~ smoothness_worst + texture_worst + \n",
    "    concave_points_worst + area_worst + radius_mean + area_se + \n",
    "    compactness_se + texture_se + concavity_mean + radius_worst + \n",
    "    compactness_mean + radius_se, family = \"binomial\", data = bal_breast_cancer[z,], maxit = 100)\n",
    "\n",
    "pred.probs = predict(logit_train, type=\"response\", newdata = bal_breast_cancer[z,]) \n",
    "\n",
    "\n",
    "threshold = seq(0, 1, 0.01) # 0, 0.01, 0.02, ...1\n",
    "err.rate = rep(0, 101)\n",
    "\n",
    "for (k in 1:101){\n",
    "  yhat = rep(\"A\", length(z)) \n",
    "  yhat[pred.probs >= threshold[k]] = \"M\"\n",
    "  yhat[pred.probs < threshold[k]] = \"B\"\n",
    "  err.rate[k] = mean(yhat != bal_breast_cancer[z,]$diagnosis)\n",
    "}"
   ]
  },
  {
   "cell_type": "code",
   "execution_count": 148,
   "metadata": {},
   "outputs": [
    {
     "data": {
      "text/html": [
       "2"
      ],
      "text/latex": [
       "2"
      ],
      "text/markdown": [
       "2"
      ],
      "text/plain": [
       "[1] 2"
      ]
     },
     "metadata": {},
     "output_type": "display_data"
    }
   ],
   "source": [
    "which.min(err.rate)"
   ]
  },
  {
   "cell_type": "code",
   "execution_count": 154,
   "metadata": {},
   "outputs": [
    {
     "data": {
      "text/html": [
       "0.01"
      ],
      "text/latex": [
       "0.01"
      ],
      "text/markdown": [
       "0.01"
      ],
      "text/plain": [
       "[1] 0.01"
      ]
     },
     "metadata": {},
     "output_type": "display_data"
    },
    {
     "data": {
      "text/html": [
       "0"
      ],
      "text/latex": [
       "0"
      ],
      "text/markdown": [
       "0"
      ],
      "text/plain": [
       "[1] 0"
      ]
     },
     "metadata": {},
     "output_type": "display_data"
    }
   ],
   "source": [
    "threshold[2] # threshold = 0.01\n",
    "min(err.rate) # 0% error rate"
   ]
  },
  {
   "cell_type": "markdown",
   "metadata": {},
   "source": [
    "## Test data\n",
    "- Still have same error rate 1.7% as like before tuning."
   ]
  },
  {
   "cell_type": "code",
   "execution_count": 155,
   "metadata": {},
   "outputs": [
    {
     "data": {
      "text/plain": [
       "         Actual\n",
       "Predicted  B  M\n",
       "        0 77  0\n",
       "        1  1 68"
      ]
     },
     "metadata": {},
     "output_type": "display_data"
    }
   ],
   "source": [
    "thresh <- 0.01\n",
    "pred.probs = predict(logit_train, type=\"response\", newdata = bal_breast_cancer[-z,]) # probability\n",
    "pred <- ifelse(pred.probs > thresh, 1, 0)\n",
    "\n",
    "conf.mat <- table(\"Predicted\"=pred, \"Actual\"= bal_breast_cancer[-z,]$diagnosis)\n",
    "conf.mat # still same, error rate = 0.6%"
   ]
  },
  {
   "cell_type": "markdown",
   "metadata": {},
   "source": [
    "## Result "
   ]
  },
  {
   "cell_type": "markdown",
   "metadata": {},
   "source": [
    "- In this data, Logistic Regression is better than Random Forest (error rate: 0.6% better than 4.4%). It is acceptable anwser beacuse usually we will choose logistic regression when we only have two labels on output variables. When we have more than two labels to classify, we would prefer to use decision tree/ LDA/ KNN or random forest.\n",
    "- Random Forest model can build a robust model because Random Forest, unlike BAGGING, are trees de-correlated and prune the trees. On the other hand, BAGGING trees uses the entire feature so numbers of trees may be strongly correlated. In this project, after tuning, I have the best model with 3 variables tried to split in each nodes and 559 trees. Moreover, I find 'concave points worst' is the most important feature in the model. And 'concave points mean', 'radius worst', 'perimeter_worst', and 'area worst' are also important than remain variables."
   ]
  },
  {
   "cell_type": "code",
   "execution_count": null,
   "metadata": {},
   "outputs": [],
   "source": []
  }
 ],
 "metadata": {
  "kernelspec": {
   "display_name": "R",
   "language": "R",
   "name": "ir"
  },
  "language_info": {
   "codemirror_mode": "r",
   "file_extension": ".r",
   "mimetype": "text/x-r-source",
   "name": "R",
   "pygments_lexer": "r",
   "version": "4.0.5"
  }
 },
 "nbformat": 4,
 "nbformat_minor": 4
}
